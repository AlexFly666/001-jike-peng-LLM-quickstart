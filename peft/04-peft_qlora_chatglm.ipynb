{
  "cells": [
    {
      "cell_type": "markdown",
      "id": "a1d913f3-3c42-428e-9cc0-8d679d51897a",
      "metadata": {
        "id": "a1d913f3-3c42-428e-9cc0-8d679d51897a"
      },
      "source": [
        "# PEFT 库 QLoRA 实战 - ChatGLM3-6B\n",
        "\n",
        "通常，模型被量化后不会进一步训练用于下游任务，因为由于权重和激活的较低精度，训练可能不稳定。\n",
        "\n",
        "但是由于PEFT方法只添加额外的可训练参数，这使得我们可以使用PEFT适配器（Adapter）来训练一个量化模型！将量化与PEFT结合起来可以成为在单个GPU上训练大模型的微调策略。\n",
        "\n",
        "例如，`QLoRA` 是一种将模型量化为4位然后使用LoRA进行训练的方法，使得在单个16GB GPU（本教程以 NVIDIA T4为例）上微调一个具有65B参数的大模型成为可能。\n",
        "\n",
        "THUDM Hugging Face 主页：https://huggingface.co/THUDM\n",
        "\n",
        "## 教程说明\n",
        "\n",
        "本教程使用 QLoRA 论文中介绍的量化技术：`NF4 数据类型`、`双量化` 和 `混合精度计算`，在 `ChatGLM3-6b` 模型上实现了 QLoRA 微调。并展示了完整的 QLoRA 微调流程，具体如下：\n",
        "\n",
        "- 数据准备\n",
        "    - 下载数据集\n",
        "    - 设计 Tokenizer 函数处理样本（map、shuffle、flatten）\n",
        "    - 自定义批量数据处理类 DataCollatorForChatGLM\n",
        "- 训练模型\n",
        "    - 加载 ChatGLM3-6B 量化模型\n",
        "    - PEFT 量化模型预处理（prepare_model_for_kbit_training）\n",
        "    - QLoRA 适配器配置（TRANSFORMERS_MODELS_TO_LORA_TARGET_MODULES_MAPPING）\n",
        "    - 微调训练超参数配置（TrainingArguments）\n",
        "    - 开启训练（trainer.train)\n",
        "    - 保存QLoRA模型（trainer.model.save_pretrained)\n",
        "- [模型推理](peft_chatglm_inference.ipynb)\n",
        "    - 加载 ChatGLM3-6B 基础模型\n",
        "    - 加载 ChatGLM3-6B QLoRA 模型（PEFT Adapter）\n",
        "    - 微调前后对比"
      ]
    },
    {
      "cell_type": "code",
      "execution_count": 1,
      "id": "7fa8105c-6dda-426b-9180-ab9abbc9ce9e",
      "metadata": {
        "id": "7fa8105c-6dda-426b-9180-ab9abbc9ce9e"
      },
      "outputs": [],
      "source": [
        "# 定义全局变量和参数\n",
        "model_name_or_path = 'THUDM/chatglm3-6b'  # 模型ID或本地路径\n",
        "train_data_path = 'HasturOfficial/adgen'    # 训练数据路径\n",
        "eval_data_path = None                     # 验证数据路径，如果没有则设置为None\n",
        "seed = 8                                 # 随机种子\n",
        "max_input_length = 512                    # 输入的最大长度\n",
        "max_output_length = 1536                  # 输出的最大长度\n",
        "lora_rank = 4                             # LoRA秩\n",
        "lora_alpha = 32                           # LoRA alpha值\n",
        "lora_dropout = 0.05                       # LoRA Dropout率\n",
        "resume_from_checkpoint = None             # 如果从checkpoint恢复训练，指定路径\n",
        "prompt_text = ''                          # 所有数据前的指令文本\n",
        "compute_dtype = 'fp32'                    # 计算数据类型（fp32, fp16, bf16）"
      ]
    },
    {
      "cell_type": "markdown",
      "id": "93eab798-4ec0-45f0-af87-a3aa880f0888",
      "metadata": {
        "id": "93eab798-4ec0-45f0-af87-a3aa880f0888"
      },
      "source": [
        "## 数据准备\n",
        "\n",
        "### 下载数据集\n",
        "\n",
        "从 Hugging Face 加载 adgen 数据集，并tokenize，shuffle"
      ]
    },
    {
      "cell_type": "code",
      "source": [
        "#补充依赖\n",
        "!pip install datasets==3.2.0\n",
        "!pip show datasets"
      ],
      "metadata": {
        "collapsed": true,
        "id": "HbE1nVkqqfVw",
        "outputId": "1d1de601-1563-43c6-c685-b328807fd6ec",
        "colab": {
          "base_uri": "https://localhost:8080/"
        }
      },
      "id": "HbE1nVkqqfVw",
      "execution_count": 3,
      "outputs": [
        {
          "output_type": "stream",
          "name": "stdout",
          "text": [
            "Collecting datasets\n",
            "  Downloading datasets-3.2.0-py3-none-any.whl.metadata (20 kB)\n",
            "Requirement already satisfied: filelock in /usr/local/lib/python3.11/dist-packages (from datasets) (3.16.1)\n",
            "Requirement already satisfied: numpy>=1.17 in /usr/local/lib/python3.11/dist-packages (from datasets) (1.26.4)\n",
            "Requirement already satisfied: pyarrow>=15.0.0 in /usr/local/lib/python3.11/dist-packages (from datasets) (17.0.0)\n",
            "Collecting dill<0.3.9,>=0.3.0 (from datasets)\n",
            "  Downloading dill-0.3.8-py3-none-any.whl.metadata (10 kB)\n",
            "Requirement already satisfied: pandas in /usr/local/lib/python3.11/dist-packages (from datasets) (2.2.2)\n",
            "Requirement already satisfied: requests>=2.32.2 in /usr/local/lib/python3.11/dist-packages (from datasets) (2.32.3)\n",
            "Requirement already satisfied: tqdm>=4.66.3 in /usr/local/lib/python3.11/dist-packages (from datasets) (4.67.1)\n",
            "Collecting xxhash (from datasets)\n",
            "  Downloading xxhash-3.5.0-cp311-cp311-manylinux_2_17_x86_64.manylinux2014_x86_64.whl.metadata (12 kB)\n",
            "Collecting multiprocess<0.70.17 (from datasets)\n",
            "  Downloading multiprocess-0.70.16-py311-none-any.whl.metadata (7.2 kB)\n",
            "Collecting fsspec<=2024.9.0,>=2023.1.0 (from fsspec[http]<=2024.9.0,>=2023.1.0->datasets)\n",
            "  Downloading fsspec-2024.9.0-py3-none-any.whl.metadata (11 kB)\n",
            "Requirement already satisfied: aiohttp in /usr/local/lib/python3.11/dist-packages (from datasets) (3.11.11)\n",
            "Requirement already satisfied: huggingface-hub>=0.23.0 in /usr/local/lib/python3.11/dist-packages (from datasets) (0.27.1)\n",
            "Requirement already satisfied: packaging in /usr/local/lib/python3.11/dist-packages (from datasets) (24.2)\n",
            "Requirement already satisfied: pyyaml>=5.1 in /usr/local/lib/python3.11/dist-packages (from datasets) (6.0.2)\n",
            "Requirement already satisfied: aiohappyeyeballs>=2.3.0 in /usr/local/lib/python3.11/dist-packages (from aiohttp->datasets) (2.4.4)\n",
            "Requirement already satisfied: aiosignal>=1.1.2 in /usr/local/lib/python3.11/dist-packages (from aiohttp->datasets) (1.3.2)\n",
            "Requirement already satisfied: attrs>=17.3.0 in /usr/local/lib/python3.11/dist-packages (from aiohttp->datasets) (24.3.0)\n",
            "Requirement already satisfied: frozenlist>=1.1.1 in /usr/local/lib/python3.11/dist-packages (from aiohttp->datasets) (1.5.0)\n",
            "Requirement already satisfied: multidict<7.0,>=4.5 in /usr/local/lib/python3.11/dist-packages (from aiohttp->datasets) (6.1.0)\n",
            "Requirement already satisfied: propcache>=0.2.0 in /usr/local/lib/python3.11/dist-packages (from aiohttp->datasets) (0.2.1)\n",
            "Requirement already satisfied: yarl<2.0,>=1.17.0 in /usr/local/lib/python3.11/dist-packages (from aiohttp->datasets) (1.18.3)\n",
            "Requirement already satisfied: typing-extensions>=3.7.4.3 in /usr/local/lib/python3.11/dist-packages (from huggingface-hub>=0.23.0->datasets) (4.12.2)\n",
            "Requirement already satisfied: charset-normalizer<4,>=2 in /usr/local/lib/python3.11/dist-packages (from requests>=2.32.2->datasets) (3.4.1)\n",
            "Requirement already satisfied: idna<4,>=2.5 in /usr/local/lib/python3.11/dist-packages (from requests>=2.32.2->datasets) (3.10)\n",
            "Requirement already satisfied: urllib3<3,>=1.21.1 in /usr/local/lib/python3.11/dist-packages (from requests>=2.32.2->datasets) (2.3.0)\n",
            "Requirement already satisfied: certifi>=2017.4.17 in /usr/local/lib/python3.11/dist-packages (from requests>=2.32.2->datasets) (2024.12.14)\n",
            "Requirement already satisfied: python-dateutil>=2.8.2 in /usr/local/lib/python3.11/dist-packages (from pandas->datasets) (2.8.2)\n",
            "Requirement already satisfied: pytz>=2020.1 in /usr/local/lib/python3.11/dist-packages (from pandas->datasets) (2024.2)\n",
            "Requirement already satisfied: tzdata>=2022.7 in /usr/local/lib/python3.11/dist-packages (from pandas->datasets) (2024.2)\n",
            "Requirement already satisfied: six>=1.5 in /usr/local/lib/python3.11/dist-packages (from python-dateutil>=2.8.2->pandas->datasets) (1.17.0)\n",
            "Downloading datasets-3.2.0-py3-none-any.whl (480 kB)\n",
            "\u001b[2K   \u001b[90m━━━━━━━━━━━━━━━━━━━━━━━━━━━━━━━━━━━━━━━━\u001b[0m \u001b[32m480.6/480.6 kB\u001b[0m \u001b[31m23.1 MB/s\u001b[0m eta \u001b[36m0:00:00\u001b[0m\n",
            "\u001b[?25hDownloading dill-0.3.8-py3-none-any.whl (116 kB)\n",
            "\u001b[2K   \u001b[90m━━━━━━━━━━━━━━━━━━━━━━━━━━━━━━━━━━━━━━━━\u001b[0m \u001b[32m116.3/116.3 kB\u001b[0m \u001b[31m12.3 MB/s\u001b[0m eta \u001b[36m0:00:00\u001b[0m\n",
            "\u001b[?25hDownloading fsspec-2024.9.0-py3-none-any.whl (179 kB)\n",
            "\u001b[2K   \u001b[90m━━━━━━━━━━━━━━━━━━━━━━━━━━━━━━━━━━━━━━━━\u001b[0m \u001b[32m179.3/179.3 kB\u001b[0m \u001b[31m17.1 MB/s\u001b[0m eta \u001b[36m0:00:00\u001b[0m\n",
            "\u001b[?25hDownloading multiprocess-0.70.16-py311-none-any.whl (143 kB)\n",
            "\u001b[2K   \u001b[90m━━━━━━━━━━━━━━━━━━━━━━━━━━━━━━━━━━━━━━━━\u001b[0m \u001b[32m143.5/143.5 kB\u001b[0m \u001b[31m15.4 MB/s\u001b[0m eta \u001b[36m0:00:00\u001b[0m\n",
            "\u001b[?25hDownloading xxhash-3.5.0-cp311-cp311-manylinux_2_17_x86_64.manylinux2014_x86_64.whl (194 kB)\n",
            "\u001b[2K   \u001b[90m━━━━━━━━━━━━━━━━━━━━━━━━━━━━━━━━━━━━━━━━\u001b[0m \u001b[32m194.8/194.8 kB\u001b[0m \u001b[31m13.7 MB/s\u001b[0m eta \u001b[36m0:00:00\u001b[0m\n",
            "\u001b[?25hInstalling collected packages: xxhash, fsspec, dill, multiprocess, datasets\n",
            "  Attempting uninstall: fsspec\n",
            "    Found existing installation: fsspec 2024.10.0\n",
            "    Uninstalling fsspec-2024.10.0:\n",
            "      Successfully uninstalled fsspec-2024.10.0\n",
            "\u001b[31mERROR: pip's dependency resolver does not currently take into account all the packages that are installed. This behaviour is the source of the following dependency conflicts.\n",
            "gcsfs 2024.10.0 requires fsspec==2024.10.0, but you have fsspec 2024.9.0 which is incompatible.\u001b[0m\u001b[31m\n",
            "\u001b[0mSuccessfully installed datasets-3.2.0 dill-0.3.8 fsspec-2024.9.0 multiprocess-0.70.16 xxhash-3.5.0\n",
            "Name: datasets\n",
            "Version: 3.2.0\n",
            "Summary: HuggingFace community-driven open-source library of datasets\n",
            "Home-page: https://github.com/huggingface/datasets\n",
            "Author: HuggingFace Inc.\n",
            "Author-email: thomas@huggingface.co\n",
            "License: Apache 2.0\n",
            "Location: /usr/local/lib/python3.11/dist-packages\n",
            "Requires: aiohttp, dill, filelock, fsspec, huggingface-hub, multiprocess, numpy, packaging, pandas, pyarrow, pyyaml, requests, tqdm, xxhash\n",
            "Required-by: \n"
          ]
        }
      ]
    },
    {
      "cell_type": "code",
      "execution_count": 4,
      "id": "f7517070-eae3-45e1-b6a2-f49f332650ac",
      "metadata": {
        "id": "f7517070-eae3-45e1-b6a2-f49f332650ac",
        "outputId": "a3773be7-9bc5-4d2e-ac39-0d482f3900c0",
        "colab": {
          "base_uri": "https://localhost:8080/",
          "height": 284,
          "referenced_widgets": [
            "c812a55724974eff92bd5f66f22392e2",
            "4559dc918c5140dca6d634a3bce515f9",
            "180cf78ab7c64deea8f48b0ade287cc7",
            "84395c579ccc478cbcf57aefa3868f9f",
            "bdf7335b1d9049779125169de735462e",
            "81ea48604d144c93947ee1633b7122ce",
            "3aec3872ff73413191de1a2c74744b04",
            "9cc771b7e5a1457890299dbc73c11c84",
            "b57f0934fa8b4e6a87700c9dd334c970",
            "2c9673c46ddf45fe9b388e8e3aaa4d18",
            "3230131edc1e48b498122e9c054ae118",
            "b19be14e3a994ed09db851816174e294",
            "3265ce987bd14736b1564b42d5acdef0",
            "be424318b09245e1bf11057cffbb880e",
            "77876462cf6545259233944c10655275",
            "4b7a7a14d60b418aa615ce88f305e536",
            "ac49bc96637c45aa90ab183815f9c8b0",
            "f7ff6c7440ad4957b7e0e781abd78fac",
            "230a77ed79324b9c9da2cf91557c20d7",
            "f6be15d7edca4996aff3be1cf1b81788",
            "a41ac11675ba49539c8f0920c9f9c988",
            "e084d64af50c4178b7b087011aa5be62",
            "949e8630910542d8af9144a76dbbab9a",
            "8041709aaa2f469c9c252cd940835705",
            "3b85d6fb288d4756964def67e12219b7",
            "31250f4c4d96460096c8b0910f8f3dc9",
            "7505fac3943d4abfac1581a51d061507",
            "7815ae405fca44babff72004f689e4a1",
            "e387050511124e83b3cbf9e01b6e46c1",
            "751bfcdf2f734ebfac1c031de1d974b8",
            "ba7cd68923484d609b63f5342cae48f9",
            "bef9aa519d3a471bba204951dc2ab1e3",
            "bd383e4178264008b030c373abd360ee",
            "f50150ea61204e36830a04b35c15241a",
            "adc7f73137b443758f42292cb64e5dc7",
            "67fb1a93028f47babc35f07ed562634d",
            "68d55775f22741ea9b6c1398f0bf91a6",
            "aae9b5f9153f470aab0afe9f7d8a7fad",
            "8818f7d27ff746e289d77cfd0a214723",
            "fa98bcdc64bb494285adba699d77e86d",
            "cc2a19f7ef00402fbc7ff148d974397a",
            "58a6efb685204f938fff7e64303f2de2",
            "0cd630735def4d498b1c57d563f31262",
            "bbd05191f7ab41208abc6b0861462c5c",
            "a164039070b2472a951b6337f1b3f4aa",
            "93a02c7dc5144e09bbf24f7951843780",
            "15dcb952c6ba49fdb6e8954d77b6bbd8",
            "8e6fe9d4547d49c5b3925690343d8a31",
            "3b360eae545049a89ebae63220b0529c",
            "7e98425e55314c96b0e3cd31727310fe",
            "6ec54d3b4ae443a182558155efba2b0d",
            "88b92c2c1a3642d9a739b9941a2d0f77",
            "85c8010f03994b92bb31297670cb2ae9",
            "f9e4e48ca9664e0fa5c292200cd7e3c7",
            "0152d2b09c5b4f57871651f0f3aa43df"
          ]
        }
      },
      "outputs": [
        {
          "output_type": "stream",
          "name": "stderr",
          "text": [
            "/usr/local/lib/python3.11/dist-packages/huggingface_hub/utils/_auth.py:94: UserWarning: \n",
            "The secret `HF_TOKEN` does not exist in your Colab secrets.\n",
            "To authenticate with the Hugging Face Hub, create a token in your settings tab (https://huggingface.co/settings/tokens), set it as secret in your Google Colab and restart your session.\n",
            "You will be able to reuse this secret in all of your notebooks.\n",
            "Please note that authentication is recommended but still optional to access public models or datasets.\n",
            "  warnings.warn(\n"
          ]
        },
        {
          "output_type": "display_data",
          "data": {
            "text/plain": [
              "README.md:   0%|          | 0.00/457 [00:00<?, ?B/s]"
            ],
            "application/vnd.jupyter.widget-view+json": {
              "version_major": 2,
              "version_minor": 0,
              "model_id": "c812a55724974eff92bd5f66f22392e2"
            }
          },
          "metadata": {}
        },
        {
          "output_type": "display_data",
          "data": {
            "text/plain": [
              "(…)-00000-of-00001-5924736d8b9825b5.parquet:   0%|          | 0.00/27.6M [00:00<?, ?B/s]"
            ],
            "application/vnd.jupyter.widget-view+json": {
              "version_major": 2,
              "version_minor": 0,
              "model_id": "b19be14e3a994ed09db851816174e294"
            }
          },
          "metadata": {}
        },
        {
          "output_type": "display_data",
          "data": {
            "text/plain": [
              "(…)-00000-of-00001-b01a1a8dd8034cf6.parquet:   0%|          | 0.00/260k [00:00<?, ?B/s]"
            ],
            "application/vnd.jupyter.widget-view+json": {
              "version_major": 2,
              "version_minor": 0,
              "model_id": "949e8630910542d8af9144a76dbbab9a"
            }
          },
          "metadata": {}
        },
        {
          "output_type": "display_data",
          "data": {
            "text/plain": [
              "Generating train split:   0%|          | 0/114599 [00:00<?, ? examples/s]"
            ],
            "application/vnd.jupyter.widget-view+json": {
              "version_major": 2,
              "version_minor": 0,
              "model_id": "f50150ea61204e36830a04b35c15241a"
            }
          },
          "metadata": {}
        },
        {
          "output_type": "display_data",
          "data": {
            "text/plain": [
              "Generating validation split:   0%|          | 0/1070 [00:00<?, ? examples/s]"
            ],
            "application/vnd.jupyter.widget-view+json": {
              "version_major": 2,
              "version_minor": 0,
              "model_id": "a164039070b2472a951b6337f1b3f4aa"
            }
          },
          "metadata": {}
        }
      ],
      "source": [
        "from datasets import load_dataset\n",
        "\n",
        "dataset = load_dataset(train_data_path)"
      ]
    },
    {
      "cell_type": "code",
      "execution_count": 6,
      "id": "cbd03e18-05b7-47c3-bb32-520fb6f0bef3",
      "metadata": {
        "id": "cbd03e18-05b7-47c3-bb32-520fb6f0bef3",
        "outputId": "83377e72-7c90-4956-f1d6-ebbd78a855c8",
        "colab": {
          "base_uri": "https://localhost:8080/"
        }
      },
      "outputs": [
        {
          "output_type": "execute_result",
          "data": {
            "text/plain": [
              "DatasetDict({\n",
              "    train: Dataset({\n",
              "        features: ['content', 'summary'],\n",
              "        num_rows: 114599\n",
              "    })\n",
              "    validation: Dataset({\n",
              "        features: ['content', 'summary'],\n",
              "        num_rows: 1070\n",
              "    })\n",
              "})"
            ]
          },
          "metadata": {},
          "execution_count": 6
        }
      ],
      "source": [
        "dataset"
      ]
    },
    {
      "cell_type": "code",
      "execution_count": 8,
      "id": "ea17c452-be25-4424-884d-14ba92c17b79",
      "metadata": {
        "id": "ea17c452-be25-4424-884d-14ba92c17b79"
      },
      "outputs": [],
      "source": [
        "from datasets import ClassLabel, Sequence\n",
        "import random\n",
        "import pandas as pd\n",
        "from IPython.display import display, HTML\n",
        "\n",
        "def show_random_elements(dataset, num_examples=10):\n",
        "    assert num_examples <= len(dataset), \"Can't pick more elements than there are in the dataset.\"\n",
        "    picks = []\n",
        "    for _ in range(num_examples):\n",
        "        pick = random.randint(0, len(dataset)-1)\n",
        "        while pick in picks:\n",
        "            pick = random.randint(0, len(dataset)-1)\n",
        "        picks.append(pick)\n",
        "\n",
        "    df = pd.DataFrame(dataset[picks])\n",
        "    for column, typ in dataset.features.items():\n",
        "        if isinstance(typ, ClassLabel):\n",
        "            df[column] = df[column].transform(lambda i: typ.names[i])\n",
        "        elif isinstance(typ, Sequence) and isinstance(typ.feature, ClassLabel):\n",
        "            df[column] = df[column].transform(lambda x: [typ.feature.names[i] for i in x])\n",
        "    display(HTML(df.to_html()))"
      ]
    },
    {
      "cell_type": "code",
      "execution_count": 9,
      "id": "7b4ee2cc-e964-4a47-9b18-67f99d65ff73",
      "metadata": {
        "id": "7b4ee2cc-e964-4a47-9b18-67f99d65ff73",
        "outputId": "e7f4d0f6-4ec6-45d0-81b9-5eaed9fa89b1",
        "colab": {
          "base_uri": "https://localhost:8080/",
          "height": 195
        }
      },
      "outputs": [
        {
          "output_type": "display_data",
          "data": {
            "text/plain": [
              "<IPython.core.display.HTML object>"
            ],
            "text/html": [
              "<table border=\"1\" class=\"dataframe\">\n",
              "  <thead>\n",
              "    <tr style=\"text-align: right;\">\n",
              "      <th></th>\n",
              "      <th>content</th>\n",
              "      <th>summary</th>\n",
              "    </tr>\n",
              "  </thead>\n",
              "  <tbody>\n",
              "    <tr>\n",
              "      <th>0</th>\n",
              "      <td>类型#上衣*材质#棉*材质#针织*风格#运动*图案#印花*图案#撞色*衣样式#套头衫*衣领型#圆领*衣袖型#收口*衣款式#罗纹</td>\n",
              "      <td>&lt;UNK&gt;女子系列运动套头衫，以流畅型罗纹圆领裁剪为设计基础，结合高品质棉质素材，上身舒适有型，吸湿透气。前襟标志性“BRAND”logo印花图案以撞色形式呈现，亮眼吸睛，增添整体造型时髦感，结合袖口罗纹针织收口处理，彰显细节质感。</td>\n",
              "    </tr>\n",
              "    <tr>\n",
              "      <th>1</th>\n",
              "      <td>类型#裙*版型#宽松*版型#显瘦*风格#复古*风格#清新*风格#潮*图案#复古*图案#刺绣*裙长#连衣裙</td>\n",
              "      <td>本来是一件平平无奇的连衣裙，加上小清新的深浅刺绣点缀之后立刻&lt;UNK&gt;，而且廓形裙摆剪裁迎合了复古潮流，让你一秒变身俏皮的小女生。宽松的版型上身之后很好的隐藏身上的赘肉更加显瘦，中长的裙长也不压个子，适合多重场合穿着。</td>\n",
              "    </tr>\n",
              "    <tr>\n",
              "      <th>2</th>\n",
              "      <td>类型#裙*材质#网纱*材质#蕾丝*图案#蕾丝*裙下摆#层叠*裙长#半身裙*裙衣门襟#拉链*裙款式#拼接*裙款式#拉链</td>\n",
              "      <td>一款非常适合甜美系小小仙女的半身裙。采用了网纱蕾丝拼接设计，搭配上层叠的造型，层次感十分的丰富。腰部没有采用传统的松紧设计，对腰腹的起到更好的修饰作用。侧边隐形的拉链设计，方便日常穿脱，更加美观实用哦。</td>\n",
              "    </tr>\n",
              "  </tbody>\n",
              "</table>"
            ]
          },
          "metadata": {}
        }
      ],
      "source": [
        "show_random_elements(dataset[\"train\"], num_examples=3)"
      ]
    },
    {
      "cell_type": "code",
      "execution_count": null,
      "id": "489ccc1b-3820-4f72-934d-3bb0875de954",
      "metadata": {
        "id": "489ccc1b-3820-4f72-934d-3bb0875de954"
      },
      "outputs": [],
      "source": []
    },
    {
      "cell_type": "markdown",
      "id": "b875200f-7e13-46d8-954d-bfaa76829769",
      "metadata": {
        "id": "b875200f-7e13-46d8-954d-bfaa76829769"
      },
      "source": [
        "### 使用 ChatGLM3-6b Tokenizer 处理数据\n",
        "\n",
        "\n",
        "关于 `ignore_label_id` 的设置：\n",
        "\n",
        "在许多自然语言处理和机器学习框架中，`ignore_label_id` 被设置为 -100 是一种常见的约定。这个特殊的值用于标记在计算损失函数时应该被忽略的目标标签。让我们详细了解一下这个选择的原因：\n",
        "\n",
        "1. **损失函数忽略特定值**：训练语言模型时，损失函数（例如交叉熵损失）通常只计算对于模型预测重要或关键的标签的损失。在某些情况下，你可能不希望某些标签对损失计算产生影响。例如，在序列到序列的模型中，输入部分的标签通常被设置为一个忽略值，因为只有输出部分的标签对于训练是重要的。\n",
        "\n",
        "2. **为何选择-100**：这个具体的值是基于实现细节选择的。在 PyTorch 的交叉熵损失函数中，可以指定一个 `ignore_index` 参数。当损失函数看到这个索引值时，它就会忽略对应的输出标签。使用 -100 作为默认值是因为它是一个不太可能出现在标签中的数字（特别是在处理分类问题时，标签通常是从0开始的正整数）。\n",
        "\n",
        "3. **标准化和通用性**：由于这种做法在多个库和框架中被采纳，-100 作为忽略标签的默认值已经变得相对标准化，这有助于维护代码的通用性和可读性。\n",
        "\n",
        "总的来说，将 `ignore_label_id` 设置为 -100 是一种在计算损失时排除特定标签影响的便捷方式。这在处理特定类型的自然语言处理任务时非常有用，尤其是在涉及序列生成或修改的任务中。\n",
        "\n",
        "#### 关于 ChatGLM3 的填充处理说明\n",
        "\n",
        "- input_id（query）里的填充补全了输入长度，目的是不改变原始文本的含义。\n",
        "- label（answer）里的填充会用来跟模型基于 query 生成的结果计算 Loss，为了不影响损失值计算，也需要设置。咱们计算损失时，是针对 answer 部分的 Embedding Vector，因此 label 这样填充，前面的序列就自动忽略掉了，只比较生成内容的 loss。因此，需要将answer前面的部分做忽略填充。"
      ]
    },
    {
      "cell_type": "code",
      "execution_count": null,
      "id": "42e3c1f1-1e5b-4452-babe-234c8ae15bb5",
      "metadata": {
        "id": "42e3c1f1-1e5b-4452-babe-234c8ae15bb5"
      },
      "outputs": [],
      "source": [
        "from transformers import AutoTokenizer\n",
        "\n",
        "# revision='b098244' 版本对应的 ChatGLM3-6B 设置 use_reentrant=False\n",
        "# 最新版本 use_reentrant 被设置为 True，会增加不必要的显存开销\n",
        "tokenizer = AutoTokenizer.from_pretrained(model_name_or_path,\n",
        "                                          trust_remote_code=True,\n",
        "                                          revision='b098244')"
      ]
    },
    {
      "cell_type": "code",
      "execution_count": null,
      "id": "2cc4a0fd-3239-4cb4-bf3f-8d8fcfff9af0",
      "metadata": {
        "id": "2cc4a0fd-3239-4cb4-bf3f-8d8fcfff9af0"
      },
      "outputs": [],
      "source": [
        "# tokenize_func 函数\n",
        "def tokenize_func(example, tokenizer, ignore_label_id=-100):\n",
        "    \"\"\"\n",
        "    对单个数据样本进行tokenize处理。\n",
        "\n",
        "    参数:\n",
        "    example (dict): 包含'content'和'summary'键的字典，代表训练数据的一个样本。\n",
        "    tokenizer (transformers.PreTrainedTokenizer): 用于tokenize文本的tokenizer。\n",
        "    ignore_label_id (int, optional): 在label中用于填充的忽略ID，默认为-100。\n",
        "\n",
        "    返回:\n",
        "    dict: 包含'tokenized_input_ids'和'labels'的字典，用于模型训练。\n",
        "    \"\"\"\n",
        "\n",
        "    # 构建问题文本\n",
        "    question = prompt_text + example['content']\n",
        "    if example.get('input', None) and example['input'].strip():\n",
        "        question += f'\\n{example[\"input\"]}'\n",
        "\n",
        "    # 构建答案文本\n",
        "    answer = example['summary']\n",
        "\n",
        "    # 对问题和答案文本进行tokenize处理\n",
        "    q_ids = tokenizer.encode(text=question, add_special_tokens=False)\n",
        "    a_ids = tokenizer.encode(text=answer, add_special_tokens=False)\n",
        "\n",
        "    # 如果tokenize后的长度超过最大长度限制，则进行截断\n",
        "    if len(q_ids) > max_input_length - 2:  # 保留空间给gmask和bos标记\n",
        "        q_ids = q_ids[:max_input_length - 2]\n",
        "    if len(a_ids) > max_output_length - 1:  # 保留空间给eos标记\n",
        "        a_ids = a_ids[:max_output_length - 1]\n",
        "\n",
        "    # 构建模型的输入格式\n",
        "    input_ids = tokenizer.build_inputs_with_special_tokens(q_ids, a_ids)\n",
        "    question_length = len(q_ids) + 2  # 加上gmask和bos标记\n",
        "\n",
        "    # 构建标签，对于问题部分的输入使用ignore_label_id进行填充\n",
        "    labels = [ignore_label_id] * question_length + input_ids[question_length:]\n",
        "\n",
        "    return {'input_ids': input_ids, 'labels': labels}\n"
      ]
    },
    {
      "cell_type": "code",
      "execution_count": null,
      "id": "d576b3fa-156a-4486-a267-ad773172d90b",
      "metadata": {
        "id": "d576b3fa-156a-4486-a267-ad773172d90b"
      },
      "outputs": [],
      "source": []
    },
    {
      "cell_type": "code",
      "execution_count": null,
      "id": "3a7cda56-a96a-4787-8db9-a712c82e2bb0",
      "metadata": {
        "id": "3a7cda56-a96a-4787-8db9-a712c82e2bb0"
      },
      "outputs": [],
      "source": []
    },
    {
      "cell_type": "code",
      "execution_count": null,
      "id": "f78a19ed-6862-42fa-896d-2c297b94ce41",
      "metadata": {
        "id": "f78a19ed-6862-42fa-896d-2c297b94ce41"
      },
      "outputs": [],
      "source": [
        "column_names = dataset['train'].column_names\n",
        "tokenized_dataset = dataset['train'].map(\n",
        "    lambda example: tokenize_func(example, tokenizer),\n",
        "    batched=False,\n",
        "    remove_columns=column_names\n",
        ")"
      ]
    },
    {
      "cell_type": "code",
      "execution_count": null,
      "id": "6fe0b50d-56cf-469f-9b35-0eb573cd1b04",
      "metadata": {
        "id": "6fe0b50d-56cf-469f-9b35-0eb573cd1b04",
        "outputId": "c45af2c0-ccc4-48c3-b500-5d79d597c4cf"
      },
      "outputs": [
        {
          "data": {
            "text/html": [
              "<table border=\"1\" class=\"dataframe\">\n",
              "  <thead>\n",
              "    <tr style=\"text-align: right;\">\n",
              "      <th></th>\n",
              "      <th>input_ids</th>\n",
              "      <th>labels</th>\n",
              "    </tr>\n",
              "  </thead>\n",
              "  <tbody>\n",
              "    <tr>\n",
              "      <th>0</th>\n",
              "      <td>[64790, 64792, 30910, 33467, 31010, 56778, 30998, 33692, 31010, 35798, 30998, 32799, 31010, 37785, 30998, 56778, 54888, 31010, 56069, 54762, 56778, 30998, 56778, 54888, 31010, 30913, 54952, 30998, 56778, 56278, 54888, 31010, 54589, 56278, 30998, 56778, 40877, 31010, 54535, 33257, 30910, 54999, 55583, 54617, 43518, 34319, 54530, 56778, 56532, 31123, 55881, 55640, 37411, 54530, 35798, 46839, 31123, 32985, 31841, 51827, 37785, 55810, 32789, 34574, 32799, 31155, 54589, 56278, 30913, 54952, 56778, 55090, 54888, 31123, 55097, 54589, 34319, 32938, 33253, 33355, 56383, 58190, 54557, 55108, 54625, 47745, 56158, 54888, 31155, 54535, 33257, 56069, 54762, 56778, 31002, 5234, 30984, 30994, 55353, 51827, ...]</td>\n",
              "      <td>[-100, -100, -100, -100, -100, -100, -100, -100, -100, -100, -100, -100, -100, -100, -100, -100, -100, -100, -100, -100, -100, -100, -100, -100, -100, -100, -100, -100, -100, -100, -100, -100, -100, -100, -100, -100, -100, -100, -100, -100, 30910, 54999, 55583, 54617, 43518, 34319, 54530, 56778, 56532, 31123, 55881, 55640, 37411, 54530, 35798, 46839, 31123, 32985, 31841, 51827, 37785, 55810, 32789, 34574, 32799, 31155, 54589, 56278, 30913, 54952, 56778, 55090, 54888, 31123, 55097, 54589, 34319, 32938, 33253, 33355, 56383, 58190, 54557, 55108, 54625, 47745, 56158, 54888, 31155, 54535, 33257, 56069, 54762, 56778, 31002, 5234, 30984, 30994, 55353, 51827, ...]</td>\n",
              "    </tr>\n",
              "  </tbody>\n",
              "</table>"
            ],
            "text/plain": [
              "<IPython.core.display.HTML object>"
            ]
          },
          "metadata": {},
          "output_type": "display_data"
        }
      ],
      "source": [
        "show_random_elements(tokenized_dataset, num_examples=1)"
      ]
    },
    {
      "cell_type": "markdown",
      "id": "18b28ee0-2207-41c8-a4cf-166d6c2b7a42",
      "metadata": {
        "id": "18b28ee0-2207-41c8-a4cf-166d6c2b7a42"
      },
      "source": [
        "### 数据集处理：shuffle & flatten\n",
        "\n",
        "洗牌(shuffle)会将数据集的索引列表打乱，以创建一个索引映射。\n",
        "\n",
        "然而，一旦您的数据集具有索引映射，速度可能会变慢10倍。这是因为需要额外的步骤来使用索引映射获取要读取的行索引，并且最重要的是，您不再连续地读取数据块。\n",
        "\n",
        "要恢复速度，需要再次使用 Dataset.flatten_indices()将整个数据集重新写入磁盘上，从而删除索引映射。\n",
        "\n",
        "ref: https://huggingface.co/docs/datasets/v2.15.0/en/package_reference/main_classes#datasets.Dataset.flatten_indices"
      ]
    },
    {
      "cell_type": "code",
      "execution_count": null,
      "id": "75293898-f010-4cae-bf01-d58afc9dc214",
      "metadata": {
        "id": "75293898-f010-4cae-bf01-d58afc9dc214"
      },
      "outputs": [],
      "source": [
        "tokenized_dataset = tokenized_dataset.shuffle(seed=seed)"
      ]
    },
    {
      "cell_type": "code",
      "execution_count": null,
      "id": "99f17038-ec1a-4935-ae39-afca620c461d",
      "metadata": {
        "id": "99f17038-ec1a-4935-ae39-afca620c461d"
      },
      "outputs": [],
      "source": [
        "tokenized_dataset = tokenized_dataset.flatten_indices()"
      ]
    },
    {
      "cell_type": "code",
      "execution_count": null,
      "id": "a5fc7921-95b1-45b5-a88e-2a80f9b25ceb",
      "metadata": {
        "id": "a5fc7921-95b1-45b5-a88e-2a80f9b25ceb"
      },
      "outputs": [],
      "source": []
    },
    {
      "cell_type": "markdown",
      "id": "281bac4d-4a57-4de3-991e-d62fbe15b6af",
      "metadata": {
        "id": "281bac4d-4a57-4de3-991e-d62fbe15b6af"
      },
      "source": [
        "### 定义 DataCollatorForChatGLM 类 批量处理数据"
      ]
    },
    {
      "cell_type": "code",
      "execution_count": null,
      "id": "631a70f9-a75e-42d6-ad8b-5fd635db8d84",
      "metadata": {
        "id": "631a70f9-a75e-42d6-ad8b-5fd635db8d84"
      },
      "outputs": [],
      "source": [
        "import torch\n",
        "from typing import List, Dict, Optional\n",
        "\n",
        "# DataCollatorForChatGLM 类\n",
        "class DataCollatorForChatGLM:\n",
        "    \"\"\"\n",
        "    用于处理批量数据的DataCollator，尤其是在使用 ChatGLM 模型时。\n",
        "\n",
        "    该类负责将多个数据样本（tokenized input）合并为一个批量，并在必要时进行填充(padding)。\n",
        "\n",
        "    属性:\n",
        "    pad_token_id (int): 用于填充(padding)的token ID。\n",
        "    max_length (int): 单个批量数据的最大长度限制。\n",
        "    ignore_label_id (int): 在标签中用于填充的ID。\n",
        "    \"\"\"\n",
        "\n",
        "    def __init__(self, pad_token_id: int, max_length: int = 2048, ignore_label_id: int = -100):\n",
        "        \"\"\"\n",
        "        初始化DataCollator。\n",
        "\n",
        "        参数:\n",
        "        pad_token_id (int): 用于填充(padding)的token ID。\n",
        "        max_length (int): 单个批量数据的最大长度限制。\n",
        "        ignore_label_id (int): 在标签中用于填充的ID，默认为-100。\n",
        "        \"\"\"\n",
        "        self.pad_token_id = pad_token_id\n",
        "        self.ignore_label_id = ignore_label_id\n",
        "        self.max_length = max_length\n",
        "\n",
        "    def __call__(self, batch_data: List[Dict[str, List]]) -> Dict[str, torch.Tensor]:\n",
        "        \"\"\"\n",
        "        处理批量数据。\n",
        "\n",
        "        参数:\n",
        "        batch_data (List[Dict[str, List]]): 包含多个样本的字典列表。\n",
        "\n",
        "        返回:\n",
        "        Dict[str, torch.Tensor]: 包含处理后的批量数据的字典。\n",
        "        \"\"\"\n",
        "        # 计算批量中每个样本的长度\n",
        "        len_list = [len(d['input_ids']) for d in batch_data]\n",
        "        batch_max_len = max(len_list)  # 找到最长的样本长度\n",
        "\n",
        "        input_ids, labels = [], []\n",
        "        for len_of_d, d in sorted(zip(len_list, batch_data), key=lambda x: -x[0]):\n",
        "            pad_len = batch_max_len - len_of_d  # 计算需要填充的长度\n",
        "            # 添加填充，并确保数据长度不超过最大长度限制\n",
        "            ids = d['input_ids'] + [self.pad_token_id] * pad_len\n",
        "            label = d['labels'] + [self.ignore_label_id] * pad_len\n",
        "            if batch_max_len > self.max_length:\n",
        "                ids = ids[:self.max_length]\n",
        "                label = label[:self.max_length]\n",
        "            input_ids.append(torch.LongTensor(ids))\n",
        "            labels.append(torch.LongTensor(label))\n",
        "\n",
        "        # 将处理后的数据堆叠成一个tensor\n",
        "        input_ids = torch.stack(input_ids)\n",
        "        labels = torch.stack(labels)\n",
        "\n",
        "        return {'input_ids': input_ids, 'labels': labels}\n"
      ]
    },
    {
      "cell_type": "code",
      "execution_count": null,
      "id": "790fb86b-7662-4c49-8e3b-3db239c60838",
      "metadata": {
        "id": "790fb86b-7662-4c49-8e3b-3db239c60838"
      },
      "outputs": [],
      "source": [
        "# 准备数据整理器\n",
        "data_collator = DataCollatorForChatGLM(pad_token_id=tokenizer.pad_token_id)"
      ]
    },
    {
      "cell_type": "code",
      "execution_count": null,
      "id": "ff4124a3-e2a5-4e68-828b-3db3590d6f04",
      "metadata": {
        "id": "ff4124a3-e2a5-4e68-828b-3db3590d6f04"
      },
      "outputs": [],
      "source": []
    },
    {
      "cell_type": "code",
      "execution_count": null,
      "id": "4f280438-3192-405d-a7bc-095831af197f",
      "metadata": {
        "id": "4f280438-3192-405d-a7bc-095831af197f"
      },
      "outputs": [],
      "source": []
    },
    {
      "cell_type": "markdown",
      "id": "0a223fcf-630a-4978-ad96-bfe93c6581ea",
      "metadata": {
        "id": "0a223fcf-630a-4978-ad96-bfe93c6581ea"
      },
      "source": [
        "## 训练模型\n",
        "\n",
        "### 加载 ChatGLM3-6B 量化模型\n",
        "\n",
        "使用 `nf4` 量化数据类型加载模型，开启双量化配置，以`bf16`混合精度训练，预估显存占用接近4GB"
      ]
    },
    {
      "cell_type": "code",
      "execution_count": null,
      "id": "a1480790-6035-4212-bc64-4292f6a908ca",
      "metadata": {
        "id": "a1480790-6035-4212-bc64-4292f6a908ca"
      },
      "outputs": [],
      "source": [
        "from transformers import AutoModel, BitsAndBytesConfig\n",
        "\n",
        "_compute_dtype_map = {\n",
        "    'fp32': torch.float32,\n",
        "    'fp16': torch.float16,\n",
        "    'bf16': torch.bfloat16\n",
        "}\n",
        "\n",
        "# QLoRA 量化配置\n",
        "q_config = BitsAndBytesConfig(load_in_4bit=True,\n",
        "                              bnb_4bit_quant_type='nf4',\n",
        "                              bnb_4bit_use_double_quant=True,\n",
        "                              bnb_4bit_compute_dtype=_compute_dtype_map['bf16'])\n"
      ]
    },
    {
      "cell_type": "markdown",
      "id": "cd8738b8-f510-4d9c-b789-d5afda67e39b",
      "metadata": {
        "id": "cd8738b8-f510-4d9c-b789-d5afda67e39b"
      },
      "source": [
        "### 加载模型\n"
      ]
    },
    {
      "cell_type": "code",
      "execution_count": null,
      "id": "c6ab5f48-a7ce-492a-bb8b-4c0c3ff04bd0",
      "metadata": {
        "id": "c6ab5f48-a7ce-492a-bb8b-4c0c3ff04bd0",
        "outputId": "bcb464dd-fff1-445b-d548-1933c9694c92",
        "colab": {
          "referenced_widgets": [
            "4a24fa9650544ddd9019b760ff34e41a"
          ]
        }
      },
      "outputs": [
        {
          "data": {
            "application/vnd.jupyter.widget-view+json": {
              "model_id": "4a24fa9650544ddd9019b760ff34e41a",
              "version_major": 2,
              "version_minor": 0
            },
            "text/plain": [
              "Loading checkpoint shards:   0%|          | 0/7 [00:00<?, ?it/s]"
            ]
          },
          "metadata": {},
          "output_type": "display_data"
        }
      ],
      "source": [
        "# revision='b098244' 版本对应的 ChatGLM3-6B 设置 use_reentrant=False\n",
        "# 最新版本 use_reentrant 被设置为 True，会增加不必要的显存开销\n",
        "model = AutoModel.from_pretrained(model_name_or_path,\n",
        "                                  quantization_config=q_config,\n",
        "                                  device_map='auto',\n",
        "                                  trust_remote_code=True,\n",
        "                                  revision='b098244')"
      ]
    },
    {
      "cell_type": "code",
      "execution_count": null,
      "id": "aaabfe10-d762-498a-87f1-1506d2ea2fe9",
      "metadata": {
        "id": "aaabfe10-d762-498a-87f1-1506d2ea2fe9",
        "outputId": "b3978e37-b2dd-4fb5-d990-dec1b8c4a47a"
      },
      "outputs": [
        {
          "name": "stdout",
          "output_type": "stream",
          "text": [
            "3739.69MiB\n"
          ]
        }
      ],
      "source": [
        "# 获取当前模型占用的 GPU显存（差值为预留给 PyTorch 的显存）\n",
        "memory_footprint_bytes = model.get_memory_footprint()\n",
        "memory_footprint_mib = memory_footprint_bytes / (1024 ** 2)  # 转换为 MiB\n",
        "\n",
        "print(f\"{memory_footprint_mib:.2f}MiB\")"
      ]
    },
    {
      "cell_type": "markdown",
      "id": "9b58f580-34c9-4f7f-b4cb-86548f25f2b1",
      "metadata": {
        "id": "9b58f580-34c9-4f7f-b4cb-86548f25f2b1"
      },
      "source": [
        "### 预处理量化模型\n",
        "\n",
        "预处理量化后的模型，使其可以支持低精度微调训练\n",
        "\n",
        "ref: https://huggingface.co/docs/peft/main/en/developer_guides/quantization#quantize-a-model"
      ]
    },
    {
      "cell_type": "code",
      "execution_count": null,
      "id": "5f59a712-4829-4929-b795-31ffdfab1761",
      "metadata": {
        "id": "5f59a712-4829-4929-b795-31ffdfab1761",
        "outputId": "733834ed-e828-42b9-d295-1155707ebc26"
      },
      "outputs": [
        {
          "name": "stderr",
          "output_type": "stream",
          "text": [
            "You are using an old version of the checkpointing format that is deprecated (We will also silently ignore `gradient_checkpointing_kwargs` in case you passed it).Please update to the new format on your modeling file. To use the new format, you need to completely remove the definition of the method `_set_gradient_checkpointing` in your model.\n"
          ]
        }
      ],
      "source": [
        "from peft import TaskType, LoraConfig, get_peft_model, prepare_model_for_kbit_training\n",
        "\n",
        "kbit_model = prepare_model_for_kbit_training(model)"
      ]
    },
    {
      "cell_type": "markdown",
      "id": "21649f5e-3f31-44ff-ab0b-82ef1614491a",
      "metadata": {
        "id": "21649f5e-3f31-44ff-ab0b-82ef1614491a"
      },
      "source": [
        "### 自定义模型新增 Adapter\n",
        "\n",
        "当新的热门 transformer 网络架构（新模型）发布时，Huggingface 社区会尽力快速将它们添加到PEFT中。\n",
        "\n",
        "如果是 Hugging Face Transformers 库还未内置支持的模型，可以使用自定义模型的方式进行配置。\n",
        "\n",
        "具体来说，在初始化相应的微调配置类（例如`LoraConfig`）时，我们需要显式指定在哪些层新增适配器（Adapter），并将其设置正确。\n",
        "\n",
        "ref: https://huggingface.co/docs/peft/developer_guides/custom_models\n",
        "\n",
        "\n",
        "#### PEFT 适配模块设置\n",
        "\n",
        "\n",
        "在PEFT库的 [constants.py](https://github.com/huggingface/peft/blob/main/src/peft/utils/constants.py) 文件中定义了不同的 PEFT 方法，在各类大模型上的微调适配模块。\n",
        "\n",
        "通常，名称相同的模型架构也类似，应用微调方法时的适配器设置也几乎一致。\n",
        "\n",
        "例如，如果新模型架构是`mistral`模型的变体，并且您想应用 LoRA 微调。在 TRANSFORMERS_MODELS_TO_LORA_TARGET_MODULES_MAPPING中`mistral`包含[\"q_proj\", \"v_proj\"]。\n",
        "\n",
        "这表示说，对于`mistral`模型，LoRA 的 target_modules 通常是 [\"q_proj\", \"v_proj\"]。"
      ]
    },
    {
      "cell_type": "code",
      "execution_count": null,
      "id": "b4dd1cb6-c1b4-430b-b031-c842ddc683a6",
      "metadata": {
        "id": "b4dd1cb6-c1b4-430b-b031-c842ddc683a6"
      },
      "outputs": [],
      "source": [
        "from peft.utils import TRANSFORMERS_MODELS_TO_LORA_TARGET_MODULES_MAPPING\n",
        "\n",
        "target_modules = TRANSFORMERS_MODELS_TO_LORA_TARGET_MODULES_MAPPING['chatglm']"
      ]
    },
    {
      "cell_type": "code",
      "execution_count": null,
      "id": "517018b1-dff0-4caf-a1ff-21933f95e4b5",
      "metadata": {
        "id": "517018b1-dff0-4caf-a1ff-21933f95e4b5",
        "outputId": "5276f0fa-8927-43d0-a14b-6bcf979f606b"
      },
      "outputs": [
        {
          "data": {
            "text/plain": [
              "['query_key_value']"
            ]
          },
          "execution_count": 20,
          "metadata": {},
          "output_type": "execute_result"
        }
      ],
      "source": [
        "target_modules"
      ]
    },
    {
      "cell_type": "markdown",
      "id": "7d8b7c08-931e-4764-9bfb-4230bc825561",
      "metadata": {
        "id": "7d8b7c08-931e-4764-9bfb-4230bc825561"
      },
      "source": [
        "### LoRA 适配器配置"
      ]
    },
    {
      "cell_type": "code",
      "execution_count": null,
      "id": "ab44290b-7bf2-44f0-ac36-ef0d41527224",
      "metadata": {
        "id": "ab44290b-7bf2-44f0-ac36-ef0d41527224"
      },
      "outputs": [],
      "source": [
        "lora_config = LoraConfig(\n",
        "    target_modules=target_modules,\n",
        "    r=lora_rank,\n",
        "    lora_alpha=lora_alpha,\n",
        "    lora_dropout=lora_dropout,\n",
        "    bias='none',\n",
        "    inference_mode=False,\n",
        "    task_type=TaskType.CAUSAL_LM\n",
        ")"
      ]
    },
    {
      "cell_type": "code",
      "execution_count": null,
      "id": "bee2f80a-ccac-4c85-965e-ce5e5be528e8",
      "metadata": {
        "id": "bee2f80a-ccac-4c85-965e-ce5e5be528e8"
      },
      "outputs": [],
      "source": [
        "qlora_model = get_peft_model(kbit_model, lora_config)"
      ]
    },
    {
      "cell_type": "code",
      "execution_count": null,
      "id": "9cf0acae-9e20-4d30-9999-53c3079cc42c",
      "metadata": {
        "id": "9cf0acae-9e20-4d30-9999-53c3079cc42c",
        "outputId": "60097023-1957-4afe-a9de-4070925d6786"
      },
      "outputs": [
        {
          "name": "stdout",
          "output_type": "stream",
          "text": [
            "trainable params: 974,848 || all params: 6,244,558,848 || trainable%: 0.01561115883009451\n"
          ]
        }
      ],
      "source": [
        "qlora_model.print_trainable_parameters()"
      ]
    },
    {
      "cell_type": "code",
      "execution_count": null,
      "id": "6d84f15b-93e1-4d90-80b9-ead28cd98406",
      "metadata": {
        "id": "6d84f15b-93e1-4d90-80b9-ead28cd98406"
      },
      "outputs": [],
      "source": []
    },
    {
      "cell_type": "markdown",
      "id": "d8043c51-fa42-4867-9382-103ad5b082f3",
      "metadata": {
        "id": "d8043c51-fa42-4867-9382-103ad5b082f3"
      },
      "source": [
        "### 训练超参数配置\n",
        "\n",
        "- 1个epoch表示对训练集的所有样本进行一次完整的训练。\n",
        "- `num_train_epochs` 表示要完整进行多少个 epochs 的训练。\n",
        "\n",
        "#### 关于使用 num_train_epochs 时，训练总步数 `steps` 的计算方法\n",
        "\n",
        "- 训练总步数： `total_steps = steps/epoch * num_train_epochs`\n",
        "- 每个epoch的训练步数：`steps/epoch = num_train_examples / (batch_size * gradient_accumulation_steps)`\n",
        "\n",
        "\n",
        "**以 `adgen` 数据集为例计算**\n",
        "\n",
        "```json\n",
        "DatasetDict({\n",
        "    train: Dataset({\n",
        "        features: ['content', 'summary'],\n",
        "        num_rows: 114599\n",
        "    })\n",
        "    validation: Dataset({\n",
        "        features: ['content', 'summary'],\n",
        "        num_rows: 1070\n",
        "    })\n",
        "})\n",
        "```\n",
        "\n",
        "代入超参数和配置进行计算：\n",
        "\n",
        "```python\n",
        "num_train_epochs = 1\n",
        "num_train_examples = 114599\n",
        "batch_size = 16\n",
        "gradient_accumulation_steps = 4\n",
        "\n",
        "\n",
        "steps = num_train_epochs * num_train_examples / (batch_size * gradient_accumulation_steps)\n",
        "      = 1 * 114599 / (16 * 4)\n",
        "      = 1790\n",
        "```"
      ]
    },
    {
      "cell_type": "code",
      "execution_count": null,
      "id": "aa527b7e-2dd6-46f0-ba7f-49f1430695a2",
      "metadata": {
        "id": "aa527b7e-2dd6-46f0-ba7f-49f1430695a2"
      },
      "outputs": [],
      "source": [
        "from transformers import TrainingArguments, Trainer\n",
        "\n",
        "training_args = TrainingArguments(\n",
        "    output_dir=f\"models/{model_name_or_path}\",          # 输出目录\n",
        "    per_device_train_batch_size=16,                     # 每个设备的训练批量大小\n",
        "    gradient_accumulation_steps=4,                     # 梯度累积步数\n",
        "    # per_device_eval_batch_size=8,                      # 每个设备的评估批量大小\n",
        "    learning_rate=1e-3,                                # 学习率\n",
        "    num_train_epochs=1,                                # 训练轮数\n",
        "    lr_scheduler_type=\"linear\",                        # 学习率调度器类型\n",
        "    warmup_ratio=0.1,                                  # 预热比例\n",
        "    logging_steps=10,                                 # 日志记录步数\n",
        "    save_strategy=\"steps\",                             # 模型保存策略\n",
        "    save_steps=100,                                    # 模型保存步数\n",
        "    # evaluation_strategy=\"steps\",                       # 评估策略\n",
        "    # eval_steps=500,                                    # 评估步数\n",
        "    optim=\"adamw_torch\",                               # 优化器类型\n",
        "    fp16=True,                                        # 是否使用混合精度训练\n",
        ")\n"
      ]
    },
    {
      "cell_type": "code",
      "execution_count": null,
      "id": "563f6592-1dac-433e-8195-c24761350cd5",
      "metadata": {
        "id": "563f6592-1dac-433e-8195-c24761350cd5",
        "outputId": "e5ee451a-0e0e-4a0a-ceac-a5be33a4434b"
      },
      "outputs": [
        {
          "name": "stderr",
          "output_type": "stream",
          "text": [
            "Detected kernel version 4.4.0, which is below the recommended minimum of 5.5.0; this can cause the process to hang. It is recommended to upgrade the kernel to the minimum version or higher.\n"
          ]
        }
      ],
      "source": [
        "trainer = Trainer(\n",
        "        model=qlora_model,\n",
        "        args=training_args,\n",
        "        train_dataset=tokenized_dataset,\n",
        "        data_collator=data_collator\n",
        "    )"
      ]
    },
    {
      "cell_type": "markdown",
      "id": "d1ba1de6-6e37-42a1-9ff0-4e926dee5a74",
      "metadata": {
        "id": "d1ba1de6-6e37-42a1-9ff0-4e926dee5a74"
      },
      "source": [
        "#### 训练参数（用于演示）"
      ]
    },
    {
      "cell_type": "code",
      "execution_count": null,
      "id": "6164c2c8-47b4-4472-a192-952d8e425554",
      "metadata": {
        "id": "6164c2c8-47b4-4472-a192-952d8e425554"
      },
      "outputs": [],
      "source": [
        "from transformers import TrainingArguments, Trainer\n",
        "\n",
        "training_demo_args = TrainingArguments(\n",
        "    output_dir=f\"models/demo/{model_name_or_path}\",          # 输出目录\n",
        "    per_device_train_batch_size=16,                     # 每个设备的训练批量大小\n",
        "    gradient_accumulation_steps=4,                     # 梯度累积步数\n",
        "    learning_rate=1e-3,                                # 学习率\n",
        "    max_steps=100,                                     # 训练步数\n",
        "    lr_scheduler_type=\"linear\",                        # 学习率调度器类型\n",
        "    warmup_ratio=0.1,                                  # 预热比例\n",
        "    logging_steps=10,                                 # 日志记录步数\n",
        "    save_strategy=\"steps\",                             # 模型保存策略\n",
        "    save_steps=20,                                    # 模型保存步数\n",
        "    optim=\"adamw_torch\",                               # 优化器类型\n",
        "    fp16=True,                                        # 是否使用混合精度训练\n",
        ")"
      ]
    },
    {
      "cell_type": "code",
      "execution_count": null,
      "id": "9655c7a7-75fd-4f0a-b190-e97a533c9bae",
      "metadata": {
        "id": "9655c7a7-75fd-4f0a-b190-e97a533c9bae",
        "outputId": "acebdc53-8ad8-48cb-f09f-a82b103b815f"
      },
      "outputs": [
        {
          "name": "stderr",
          "output_type": "stream",
          "text": [
            "Detected kernel version 4.4.0, which is below the recommended minimum of 5.5.0; this can cause the process to hang. It is recommended to upgrade the kernel to the minimum version or higher.\n"
          ]
        }
      ],
      "source": [
        "trainer = Trainer(\n",
        "        model=qlora_model,\n",
        "        args=training_demo_args,\n",
        "        train_dataset=tokenized_dataset,\n",
        "        data_collator=data_collator\n",
        "    )"
      ]
    },
    {
      "cell_type": "markdown",
      "id": "7073aa2a-22f0-4ac1-ba93-5d8953ddb18f",
      "metadata": {
        "id": "7073aa2a-22f0-4ac1-ba93-5d8953ddb18f"
      },
      "source": [
        "### 开始训练\n"
      ]
    },
    {
      "cell_type": "code",
      "execution_count": null,
      "id": "07413af1-dff0-466a-adaa-00a80f327350",
      "metadata": {
        "id": "07413af1-dff0-466a-adaa-00a80f327350",
        "outputId": "94d384c5-cd20-4448-9ddb-87563b8a8624"
      },
      "outputs": [
        {
          "name": "stderr",
          "output_type": "stream",
          "text": [
            "`use_cache=True` is incompatible with gradient checkpointing. Setting `use_cache=False`...\n",
            "/root/miniconda3/lib/python3.11/site-packages/torch/utils/checkpoint.py:464: UserWarning: torch.utils.checkpoint: the use_reentrant parameter should be passed explicitly. In version 2.4 we will raise an exception if use_reentrant is not passed. use_reentrant=False is recommended, but if you need to preserve the current default behavior, you can pass use_reentrant=True. Refer to docs for more details on the differences between the two variants.\n",
            "  warnings.warn(\n"
          ]
        },
        {
          "data": {
            "text/html": [
              "\n",
              "    <div>\n",
              "      \n",
              "      <progress value='100' max='100' style='width:300px; height:20px; vertical-align: middle;'></progress>\n",
              "      [100/100 46:45, Epoch 0/1]\n",
              "    </div>\n",
              "    <table border=\"1\" class=\"dataframe\">\n",
              "  <thead>\n",
              " <tr style=\"text-align: left;\">\n",
              "      <th>Step</th>\n",
              "      <th>Training Loss</th>\n",
              "    </tr>\n",
              "  </thead>\n",
              "  <tbody>\n",
              "    <tr>\n",
              "      <td>10</td>\n",
              "      <td>4.694100</td>\n",
              "    </tr>\n",
              "    <tr>\n",
              "      <td>20</td>\n",
              "      <td>3.805300</td>\n",
              "    </tr>\n",
              "    <tr>\n",
              "      <td>30</td>\n",
              "      <td>3.590100</td>\n",
              "    </tr>\n",
              "    <tr>\n",
              "      <td>40</td>\n",
              "      <td>3.502200</td>\n",
              "    </tr>\n",
              "    <tr>\n",
              "      <td>50</td>\n",
              "      <td>3.440100</td>\n",
              "    </tr>\n",
              "    <tr>\n",
              "      <td>60</td>\n",
              "      <td>3.411000</td>\n",
              "    </tr>\n",
              "    <tr>\n",
              "      <td>70</td>\n",
              "      <td>3.399500</td>\n",
              "    </tr>\n",
              "    <tr>\n",
              "      <td>80</td>\n",
              "      <td>3.375400</td>\n",
              "    </tr>\n",
              "    <tr>\n",
              "      <td>90</td>\n",
              "      <td>3.359900</td>\n",
              "    </tr>\n",
              "    <tr>\n",
              "      <td>100</td>\n",
              "      <td>3.328900</td>\n",
              "    </tr>\n",
              "  </tbody>\n",
              "</table><p>"
            ],
            "text/plain": [
              "<IPython.core.display.HTML object>"
            ]
          },
          "metadata": {},
          "output_type": "display_data"
        },
        {
          "name": "stderr",
          "output_type": "stream",
          "text": [
            "Checkpoint destination directory models/demo/THUDM/chatglm3-6b/checkpoint-20 already exists and is non-empty.Saving will proceed but saved results may be invalid.\n",
            "/root/miniconda3/lib/python3.11/site-packages/torch/utils/checkpoint.py:464: UserWarning: torch.utils.checkpoint: the use_reentrant parameter should be passed explicitly. In version 2.4 we will raise an exception if use_reentrant is not passed. use_reentrant=False is recommended, but if you need to preserve the current default behavior, you can pass use_reentrant=True. Refer to docs for more details on the differences between the two variants.\n",
            "  warnings.warn(\n",
            "Checkpoint destination directory models/demo/THUDM/chatglm3-6b/checkpoint-40 already exists and is non-empty.Saving will proceed but saved results may be invalid.\n",
            "/root/miniconda3/lib/python3.11/site-packages/torch/utils/checkpoint.py:464: UserWarning: torch.utils.checkpoint: the use_reentrant parameter should be passed explicitly. In version 2.4 we will raise an exception if use_reentrant is not passed. use_reentrant=False is recommended, but if you need to preserve the current default behavior, you can pass use_reentrant=True. Refer to docs for more details on the differences between the two variants.\n",
            "  warnings.warn(\n",
            "Checkpoint destination directory models/demo/THUDM/chatglm3-6b/checkpoint-60 already exists and is non-empty.Saving will proceed but saved results may be invalid.\n",
            "/root/miniconda3/lib/python3.11/site-packages/torch/utils/checkpoint.py:464: UserWarning: torch.utils.checkpoint: the use_reentrant parameter should be passed explicitly. In version 2.4 we will raise an exception if use_reentrant is not passed. use_reentrant=False is recommended, but if you need to preserve the current default behavior, you can pass use_reentrant=True. Refer to docs for more details on the differences between the two variants.\n",
            "  warnings.warn(\n",
            "Checkpoint destination directory models/demo/THUDM/chatglm3-6b/checkpoint-80 already exists and is non-empty.Saving will proceed but saved results may be invalid.\n",
            "/root/miniconda3/lib/python3.11/site-packages/torch/utils/checkpoint.py:464: UserWarning: torch.utils.checkpoint: the use_reentrant parameter should be passed explicitly. In version 2.4 we will raise an exception if use_reentrant is not passed. use_reentrant=False is recommended, but if you need to preserve the current default behavior, you can pass use_reentrant=True. Refer to docs for more details on the differences between the two variants.\n",
            "  warnings.warn(\n",
            "Checkpoint destination directory models/demo/THUDM/chatglm3-6b/checkpoint-100 already exists and is non-empty.Saving will proceed but saved results may be invalid.\n"
          ]
        },
        {
          "data": {
            "text/plain": [
              "TrainOutput(global_step=100, training_loss=3.5906502532958986, metrics={'train_runtime': 2832.2774, 'train_samples_per_second': 2.26, 'train_steps_per_second': 0.035, 'total_flos': 3.840600180523008e+16, 'train_loss': 3.5906502532958986, 'epoch': 0.06})"
            ]
          },
          "execution_count": 27,
          "metadata": {},
          "output_type": "execute_result"
        }
      ],
      "source": [
        "trainer.train()"
      ]
    },
    {
      "cell_type": "code",
      "execution_count": null,
      "id": "320cd8a8-3690-4a2b-b725-f4c1316646ac",
      "metadata": {
        "id": "320cd8a8-3690-4a2b-b725-f4c1316646ac"
      },
      "outputs": [],
      "source": [
        "trainer.model.save_pretrained(f\"models/demo/{model_name_or_path}\")"
      ]
    },
    {
      "cell_type": "code",
      "execution_count": null,
      "id": "9909f94a-b993-41b4-99f2-95a3b8b38c14",
      "metadata": {
        "id": "9909f94a-b993-41b4-99f2-95a3b8b38c14"
      },
      "outputs": [],
      "source": []
    },
    {
      "cell_type": "code",
      "execution_count": null,
      "id": "2111a492-d605-4b69-b98b-7db97e45f7f3",
      "metadata": {
        "id": "2111a492-d605-4b69-b98b-7db97e45f7f3"
      },
      "outputs": [],
      "source": []
    }
  ],
  "metadata": {
    "kernelspec": {
      "display_name": "Python 3",
      "name": "python3"
    },
    "language_info": {
      "codemirror_mode": {
        "name": "ipython",
        "version": 3
      },
      "file_extension": ".py",
      "mimetype": "text/x-python",
      "name": "python",
      "nbconvert_exporter": "python",
      "pygments_lexer": "ipython3",
      "version": "3.11.5"
    },
    "colab": {
      "provenance": [],
      "gpuType": "T4"
    },
    "accelerator": "GPU",
    "widgets": {
      "application/vnd.jupyter.widget-state+json": {
        "c812a55724974eff92bd5f66f22392e2": {
          "model_module": "@jupyter-widgets/controls",
          "model_name": "HBoxModel",
          "model_module_version": "1.5.0",
          "state": {
            "_dom_classes": [],
            "_model_module": "@jupyter-widgets/controls",
            "_model_module_version": "1.5.0",
            "_model_name": "HBoxModel",
            "_view_count": null,
            "_view_module": "@jupyter-widgets/controls",
            "_view_module_version": "1.5.0",
            "_view_name": "HBoxView",
            "box_style": "",
            "children": [
              "IPY_MODEL_4559dc918c5140dca6d634a3bce515f9",
              "IPY_MODEL_180cf78ab7c64deea8f48b0ade287cc7",
              "IPY_MODEL_84395c579ccc478cbcf57aefa3868f9f"
            ],
            "layout": "IPY_MODEL_bdf7335b1d9049779125169de735462e"
          }
        },
        "4559dc918c5140dca6d634a3bce515f9": {
          "model_module": "@jupyter-widgets/controls",
          "model_name": "HTMLModel",
          "model_module_version": "1.5.0",
          "state": {
            "_dom_classes": [],
            "_model_module": "@jupyter-widgets/controls",
            "_model_module_version": "1.5.0",
            "_model_name": "HTMLModel",
            "_view_count": null,
            "_view_module": "@jupyter-widgets/controls",
            "_view_module_version": "1.5.0",
            "_view_name": "HTMLView",
            "description": "",
            "description_tooltip": null,
            "layout": "IPY_MODEL_81ea48604d144c93947ee1633b7122ce",
            "placeholder": "​",
            "style": "IPY_MODEL_3aec3872ff73413191de1a2c74744b04",
            "value": "README.md: 100%"
          }
        },
        "180cf78ab7c64deea8f48b0ade287cc7": {
          "model_module": "@jupyter-widgets/controls",
          "model_name": "FloatProgressModel",
          "model_module_version": "1.5.0",
          "state": {
            "_dom_classes": [],
            "_model_module": "@jupyter-widgets/controls",
            "_model_module_version": "1.5.0",
            "_model_name": "FloatProgressModel",
            "_view_count": null,
            "_view_module": "@jupyter-widgets/controls",
            "_view_module_version": "1.5.0",
            "_view_name": "ProgressView",
            "bar_style": "success",
            "description": "",
            "description_tooltip": null,
            "layout": "IPY_MODEL_9cc771b7e5a1457890299dbc73c11c84",
            "max": 457,
            "min": 0,
            "orientation": "horizontal",
            "style": "IPY_MODEL_b57f0934fa8b4e6a87700c9dd334c970",
            "value": 457
          }
        },
        "84395c579ccc478cbcf57aefa3868f9f": {
          "model_module": "@jupyter-widgets/controls",
          "model_name": "HTMLModel",
          "model_module_version": "1.5.0",
          "state": {
            "_dom_classes": [],
            "_model_module": "@jupyter-widgets/controls",
            "_model_module_version": "1.5.0",
            "_model_name": "HTMLModel",
            "_view_count": null,
            "_view_module": "@jupyter-widgets/controls",
            "_view_module_version": "1.5.0",
            "_view_name": "HTMLView",
            "description": "",
            "description_tooltip": null,
            "layout": "IPY_MODEL_2c9673c46ddf45fe9b388e8e3aaa4d18",
            "placeholder": "​",
            "style": "IPY_MODEL_3230131edc1e48b498122e9c054ae118",
            "value": " 457/457 [00:00&lt;00:00, 34.3kB/s]"
          }
        },
        "bdf7335b1d9049779125169de735462e": {
          "model_module": "@jupyter-widgets/base",
          "model_name": "LayoutModel",
          "model_module_version": "1.2.0",
          "state": {
            "_model_module": "@jupyter-widgets/base",
            "_model_module_version": "1.2.0",
            "_model_name": "LayoutModel",
            "_view_count": null,
            "_view_module": "@jupyter-widgets/base",
            "_view_module_version": "1.2.0",
            "_view_name": "LayoutView",
            "align_content": null,
            "align_items": null,
            "align_self": null,
            "border": null,
            "bottom": null,
            "display": null,
            "flex": null,
            "flex_flow": null,
            "grid_area": null,
            "grid_auto_columns": null,
            "grid_auto_flow": null,
            "grid_auto_rows": null,
            "grid_column": null,
            "grid_gap": null,
            "grid_row": null,
            "grid_template_areas": null,
            "grid_template_columns": null,
            "grid_template_rows": null,
            "height": null,
            "justify_content": null,
            "justify_items": null,
            "left": null,
            "margin": null,
            "max_height": null,
            "max_width": null,
            "min_height": null,
            "min_width": null,
            "object_fit": null,
            "object_position": null,
            "order": null,
            "overflow": null,
            "overflow_x": null,
            "overflow_y": null,
            "padding": null,
            "right": null,
            "top": null,
            "visibility": null,
            "width": null
          }
        },
        "81ea48604d144c93947ee1633b7122ce": {
          "model_module": "@jupyter-widgets/base",
          "model_name": "LayoutModel",
          "model_module_version": "1.2.0",
          "state": {
            "_model_module": "@jupyter-widgets/base",
            "_model_module_version": "1.2.0",
            "_model_name": "LayoutModel",
            "_view_count": null,
            "_view_module": "@jupyter-widgets/base",
            "_view_module_version": "1.2.0",
            "_view_name": "LayoutView",
            "align_content": null,
            "align_items": null,
            "align_self": null,
            "border": null,
            "bottom": null,
            "display": null,
            "flex": null,
            "flex_flow": null,
            "grid_area": null,
            "grid_auto_columns": null,
            "grid_auto_flow": null,
            "grid_auto_rows": null,
            "grid_column": null,
            "grid_gap": null,
            "grid_row": null,
            "grid_template_areas": null,
            "grid_template_columns": null,
            "grid_template_rows": null,
            "height": null,
            "justify_content": null,
            "justify_items": null,
            "left": null,
            "margin": null,
            "max_height": null,
            "max_width": null,
            "min_height": null,
            "min_width": null,
            "object_fit": null,
            "object_position": null,
            "order": null,
            "overflow": null,
            "overflow_x": null,
            "overflow_y": null,
            "padding": null,
            "right": null,
            "top": null,
            "visibility": null,
            "width": null
          }
        },
        "3aec3872ff73413191de1a2c74744b04": {
          "model_module": "@jupyter-widgets/controls",
          "model_name": "DescriptionStyleModel",
          "model_module_version": "1.5.0",
          "state": {
            "_model_module": "@jupyter-widgets/controls",
            "_model_module_version": "1.5.0",
            "_model_name": "DescriptionStyleModel",
            "_view_count": null,
            "_view_module": "@jupyter-widgets/base",
            "_view_module_version": "1.2.0",
            "_view_name": "StyleView",
            "description_width": ""
          }
        },
        "9cc771b7e5a1457890299dbc73c11c84": {
          "model_module": "@jupyter-widgets/base",
          "model_name": "LayoutModel",
          "model_module_version": "1.2.0",
          "state": {
            "_model_module": "@jupyter-widgets/base",
            "_model_module_version": "1.2.0",
            "_model_name": "LayoutModel",
            "_view_count": null,
            "_view_module": "@jupyter-widgets/base",
            "_view_module_version": "1.2.0",
            "_view_name": "LayoutView",
            "align_content": null,
            "align_items": null,
            "align_self": null,
            "border": null,
            "bottom": null,
            "display": null,
            "flex": null,
            "flex_flow": null,
            "grid_area": null,
            "grid_auto_columns": null,
            "grid_auto_flow": null,
            "grid_auto_rows": null,
            "grid_column": null,
            "grid_gap": null,
            "grid_row": null,
            "grid_template_areas": null,
            "grid_template_columns": null,
            "grid_template_rows": null,
            "height": null,
            "justify_content": null,
            "justify_items": null,
            "left": null,
            "margin": null,
            "max_height": null,
            "max_width": null,
            "min_height": null,
            "min_width": null,
            "object_fit": null,
            "object_position": null,
            "order": null,
            "overflow": null,
            "overflow_x": null,
            "overflow_y": null,
            "padding": null,
            "right": null,
            "top": null,
            "visibility": null,
            "width": null
          }
        },
        "b57f0934fa8b4e6a87700c9dd334c970": {
          "model_module": "@jupyter-widgets/controls",
          "model_name": "ProgressStyleModel",
          "model_module_version": "1.5.0",
          "state": {
            "_model_module": "@jupyter-widgets/controls",
            "_model_module_version": "1.5.0",
            "_model_name": "ProgressStyleModel",
            "_view_count": null,
            "_view_module": "@jupyter-widgets/base",
            "_view_module_version": "1.2.0",
            "_view_name": "StyleView",
            "bar_color": null,
            "description_width": ""
          }
        },
        "2c9673c46ddf45fe9b388e8e3aaa4d18": {
          "model_module": "@jupyter-widgets/base",
          "model_name": "LayoutModel",
          "model_module_version": "1.2.0",
          "state": {
            "_model_module": "@jupyter-widgets/base",
            "_model_module_version": "1.2.0",
            "_model_name": "LayoutModel",
            "_view_count": null,
            "_view_module": "@jupyter-widgets/base",
            "_view_module_version": "1.2.0",
            "_view_name": "LayoutView",
            "align_content": null,
            "align_items": null,
            "align_self": null,
            "border": null,
            "bottom": null,
            "display": null,
            "flex": null,
            "flex_flow": null,
            "grid_area": null,
            "grid_auto_columns": null,
            "grid_auto_flow": null,
            "grid_auto_rows": null,
            "grid_column": null,
            "grid_gap": null,
            "grid_row": null,
            "grid_template_areas": null,
            "grid_template_columns": null,
            "grid_template_rows": null,
            "height": null,
            "justify_content": null,
            "justify_items": null,
            "left": null,
            "margin": null,
            "max_height": null,
            "max_width": null,
            "min_height": null,
            "min_width": null,
            "object_fit": null,
            "object_position": null,
            "order": null,
            "overflow": null,
            "overflow_x": null,
            "overflow_y": null,
            "padding": null,
            "right": null,
            "top": null,
            "visibility": null,
            "width": null
          }
        },
        "3230131edc1e48b498122e9c054ae118": {
          "model_module": "@jupyter-widgets/controls",
          "model_name": "DescriptionStyleModel",
          "model_module_version": "1.5.0",
          "state": {
            "_model_module": "@jupyter-widgets/controls",
            "_model_module_version": "1.5.0",
            "_model_name": "DescriptionStyleModel",
            "_view_count": null,
            "_view_module": "@jupyter-widgets/base",
            "_view_module_version": "1.2.0",
            "_view_name": "StyleView",
            "description_width": ""
          }
        },
        "b19be14e3a994ed09db851816174e294": {
          "model_module": "@jupyter-widgets/controls",
          "model_name": "HBoxModel",
          "model_module_version": "1.5.0",
          "state": {
            "_dom_classes": [],
            "_model_module": "@jupyter-widgets/controls",
            "_model_module_version": "1.5.0",
            "_model_name": "HBoxModel",
            "_view_count": null,
            "_view_module": "@jupyter-widgets/controls",
            "_view_module_version": "1.5.0",
            "_view_name": "HBoxView",
            "box_style": "",
            "children": [
              "IPY_MODEL_3265ce987bd14736b1564b42d5acdef0",
              "IPY_MODEL_be424318b09245e1bf11057cffbb880e",
              "IPY_MODEL_77876462cf6545259233944c10655275"
            ],
            "layout": "IPY_MODEL_4b7a7a14d60b418aa615ce88f305e536"
          }
        },
        "3265ce987bd14736b1564b42d5acdef0": {
          "model_module": "@jupyter-widgets/controls",
          "model_name": "HTMLModel",
          "model_module_version": "1.5.0",
          "state": {
            "_dom_classes": [],
            "_model_module": "@jupyter-widgets/controls",
            "_model_module_version": "1.5.0",
            "_model_name": "HTMLModel",
            "_view_count": null,
            "_view_module": "@jupyter-widgets/controls",
            "_view_module_version": "1.5.0",
            "_view_name": "HTMLView",
            "description": "",
            "description_tooltip": null,
            "layout": "IPY_MODEL_ac49bc96637c45aa90ab183815f9c8b0",
            "placeholder": "​",
            "style": "IPY_MODEL_f7ff6c7440ad4957b7e0e781abd78fac",
            "value": "(…)-00000-of-00001-5924736d8b9825b5.parquet: 100%"
          }
        },
        "be424318b09245e1bf11057cffbb880e": {
          "model_module": "@jupyter-widgets/controls",
          "model_name": "FloatProgressModel",
          "model_module_version": "1.5.0",
          "state": {
            "_dom_classes": [],
            "_model_module": "@jupyter-widgets/controls",
            "_model_module_version": "1.5.0",
            "_model_name": "FloatProgressModel",
            "_view_count": null,
            "_view_module": "@jupyter-widgets/controls",
            "_view_module_version": "1.5.0",
            "_view_name": "ProgressView",
            "bar_style": "success",
            "description": "",
            "description_tooltip": null,
            "layout": "IPY_MODEL_230a77ed79324b9c9da2cf91557c20d7",
            "max": 27593855,
            "min": 0,
            "orientation": "horizontal",
            "style": "IPY_MODEL_f6be15d7edca4996aff3be1cf1b81788",
            "value": 27593855
          }
        },
        "77876462cf6545259233944c10655275": {
          "model_module": "@jupyter-widgets/controls",
          "model_name": "HTMLModel",
          "model_module_version": "1.5.0",
          "state": {
            "_dom_classes": [],
            "_model_module": "@jupyter-widgets/controls",
            "_model_module_version": "1.5.0",
            "_model_name": "HTMLModel",
            "_view_count": null,
            "_view_module": "@jupyter-widgets/controls",
            "_view_module_version": "1.5.0",
            "_view_name": "HTMLView",
            "description": "",
            "description_tooltip": null,
            "layout": "IPY_MODEL_a41ac11675ba49539c8f0920c9f9c988",
            "placeholder": "​",
            "style": "IPY_MODEL_e084d64af50c4178b7b087011aa5be62",
            "value": " 27.6M/27.6M [00:01&lt;00:00, 26.1MB/s]"
          }
        },
        "4b7a7a14d60b418aa615ce88f305e536": {
          "model_module": "@jupyter-widgets/base",
          "model_name": "LayoutModel",
          "model_module_version": "1.2.0",
          "state": {
            "_model_module": "@jupyter-widgets/base",
            "_model_module_version": "1.2.0",
            "_model_name": "LayoutModel",
            "_view_count": null,
            "_view_module": "@jupyter-widgets/base",
            "_view_module_version": "1.2.0",
            "_view_name": "LayoutView",
            "align_content": null,
            "align_items": null,
            "align_self": null,
            "border": null,
            "bottom": null,
            "display": null,
            "flex": null,
            "flex_flow": null,
            "grid_area": null,
            "grid_auto_columns": null,
            "grid_auto_flow": null,
            "grid_auto_rows": null,
            "grid_column": null,
            "grid_gap": null,
            "grid_row": null,
            "grid_template_areas": null,
            "grid_template_columns": null,
            "grid_template_rows": null,
            "height": null,
            "justify_content": null,
            "justify_items": null,
            "left": null,
            "margin": null,
            "max_height": null,
            "max_width": null,
            "min_height": null,
            "min_width": null,
            "object_fit": null,
            "object_position": null,
            "order": null,
            "overflow": null,
            "overflow_x": null,
            "overflow_y": null,
            "padding": null,
            "right": null,
            "top": null,
            "visibility": null,
            "width": null
          }
        },
        "ac49bc96637c45aa90ab183815f9c8b0": {
          "model_module": "@jupyter-widgets/base",
          "model_name": "LayoutModel",
          "model_module_version": "1.2.0",
          "state": {
            "_model_module": "@jupyter-widgets/base",
            "_model_module_version": "1.2.0",
            "_model_name": "LayoutModel",
            "_view_count": null,
            "_view_module": "@jupyter-widgets/base",
            "_view_module_version": "1.2.0",
            "_view_name": "LayoutView",
            "align_content": null,
            "align_items": null,
            "align_self": null,
            "border": null,
            "bottom": null,
            "display": null,
            "flex": null,
            "flex_flow": null,
            "grid_area": null,
            "grid_auto_columns": null,
            "grid_auto_flow": null,
            "grid_auto_rows": null,
            "grid_column": null,
            "grid_gap": null,
            "grid_row": null,
            "grid_template_areas": null,
            "grid_template_columns": null,
            "grid_template_rows": null,
            "height": null,
            "justify_content": null,
            "justify_items": null,
            "left": null,
            "margin": null,
            "max_height": null,
            "max_width": null,
            "min_height": null,
            "min_width": null,
            "object_fit": null,
            "object_position": null,
            "order": null,
            "overflow": null,
            "overflow_x": null,
            "overflow_y": null,
            "padding": null,
            "right": null,
            "top": null,
            "visibility": null,
            "width": null
          }
        },
        "f7ff6c7440ad4957b7e0e781abd78fac": {
          "model_module": "@jupyter-widgets/controls",
          "model_name": "DescriptionStyleModel",
          "model_module_version": "1.5.0",
          "state": {
            "_model_module": "@jupyter-widgets/controls",
            "_model_module_version": "1.5.0",
            "_model_name": "DescriptionStyleModel",
            "_view_count": null,
            "_view_module": "@jupyter-widgets/base",
            "_view_module_version": "1.2.0",
            "_view_name": "StyleView",
            "description_width": ""
          }
        },
        "230a77ed79324b9c9da2cf91557c20d7": {
          "model_module": "@jupyter-widgets/base",
          "model_name": "LayoutModel",
          "model_module_version": "1.2.0",
          "state": {
            "_model_module": "@jupyter-widgets/base",
            "_model_module_version": "1.2.0",
            "_model_name": "LayoutModel",
            "_view_count": null,
            "_view_module": "@jupyter-widgets/base",
            "_view_module_version": "1.2.0",
            "_view_name": "LayoutView",
            "align_content": null,
            "align_items": null,
            "align_self": null,
            "border": null,
            "bottom": null,
            "display": null,
            "flex": null,
            "flex_flow": null,
            "grid_area": null,
            "grid_auto_columns": null,
            "grid_auto_flow": null,
            "grid_auto_rows": null,
            "grid_column": null,
            "grid_gap": null,
            "grid_row": null,
            "grid_template_areas": null,
            "grid_template_columns": null,
            "grid_template_rows": null,
            "height": null,
            "justify_content": null,
            "justify_items": null,
            "left": null,
            "margin": null,
            "max_height": null,
            "max_width": null,
            "min_height": null,
            "min_width": null,
            "object_fit": null,
            "object_position": null,
            "order": null,
            "overflow": null,
            "overflow_x": null,
            "overflow_y": null,
            "padding": null,
            "right": null,
            "top": null,
            "visibility": null,
            "width": null
          }
        },
        "f6be15d7edca4996aff3be1cf1b81788": {
          "model_module": "@jupyter-widgets/controls",
          "model_name": "ProgressStyleModel",
          "model_module_version": "1.5.0",
          "state": {
            "_model_module": "@jupyter-widgets/controls",
            "_model_module_version": "1.5.0",
            "_model_name": "ProgressStyleModel",
            "_view_count": null,
            "_view_module": "@jupyter-widgets/base",
            "_view_module_version": "1.2.0",
            "_view_name": "StyleView",
            "bar_color": null,
            "description_width": ""
          }
        },
        "a41ac11675ba49539c8f0920c9f9c988": {
          "model_module": "@jupyter-widgets/base",
          "model_name": "LayoutModel",
          "model_module_version": "1.2.0",
          "state": {
            "_model_module": "@jupyter-widgets/base",
            "_model_module_version": "1.2.0",
            "_model_name": "LayoutModel",
            "_view_count": null,
            "_view_module": "@jupyter-widgets/base",
            "_view_module_version": "1.2.0",
            "_view_name": "LayoutView",
            "align_content": null,
            "align_items": null,
            "align_self": null,
            "border": null,
            "bottom": null,
            "display": null,
            "flex": null,
            "flex_flow": null,
            "grid_area": null,
            "grid_auto_columns": null,
            "grid_auto_flow": null,
            "grid_auto_rows": null,
            "grid_column": null,
            "grid_gap": null,
            "grid_row": null,
            "grid_template_areas": null,
            "grid_template_columns": null,
            "grid_template_rows": null,
            "height": null,
            "justify_content": null,
            "justify_items": null,
            "left": null,
            "margin": null,
            "max_height": null,
            "max_width": null,
            "min_height": null,
            "min_width": null,
            "object_fit": null,
            "object_position": null,
            "order": null,
            "overflow": null,
            "overflow_x": null,
            "overflow_y": null,
            "padding": null,
            "right": null,
            "top": null,
            "visibility": null,
            "width": null
          }
        },
        "e084d64af50c4178b7b087011aa5be62": {
          "model_module": "@jupyter-widgets/controls",
          "model_name": "DescriptionStyleModel",
          "model_module_version": "1.5.0",
          "state": {
            "_model_module": "@jupyter-widgets/controls",
            "_model_module_version": "1.5.0",
            "_model_name": "DescriptionStyleModel",
            "_view_count": null,
            "_view_module": "@jupyter-widgets/base",
            "_view_module_version": "1.2.0",
            "_view_name": "StyleView",
            "description_width": ""
          }
        },
        "949e8630910542d8af9144a76dbbab9a": {
          "model_module": "@jupyter-widgets/controls",
          "model_name": "HBoxModel",
          "model_module_version": "1.5.0",
          "state": {
            "_dom_classes": [],
            "_model_module": "@jupyter-widgets/controls",
            "_model_module_version": "1.5.0",
            "_model_name": "HBoxModel",
            "_view_count": null,
            "_view_module": "@jupyter-widgets/controls",
            "_view_module_version": "1.5.0",
            "_view_name": "HBoxView",
            "box_style": "",
            "children": [
              "IPY_MODEL_8041709aaa2f469c9c252cd940835705",
              "IPY_MODEL_3b85d6fb288d4756964def67e12219b7",
              "IPY_MODEL_31250f4c4d96460096c8b0910f8f3dc9"
            ],
            "layout": "IPY_MODEL_7505fac3943d4abfac1581a51d061507"
          }
        },
        "8041709aaa2f469c9c252cd940835705": {
          "model_module": "@jupyter-widgets/controls",
          "model_name": "HTMLModel",
          "model_module_version": "1.5.0",
          "state": {
            "_dom_classes": [],
            "_model_module": "@jupyter-widgets/controls",
            "_model_module_version": "1.5.0",
            "_model_name": "HTMLModel",
            "_view_count": null,
            "_view_module": "@jupyter-widgets/controls",
            "_view_module_version": "1.5.0",
            "_view_name": "HTMLView",
            "description": "",
            "description_tooltip": null,
            "layout": "IPY_MODEL_7815ae405fca44babff72004f689e4a1",
            "placeholder": "​",
            "style": "IPY_MODEL_e387050511124e83b3cbf9e01b6e46c1",
            "value": "(…)-00000-of-00001-b01a1a8dd8034cf6.parquet: 100%"
          }
        },
        "3b85d6fb288d4756964def67e12219b7": {
          "model_module": "@jupyter-widgets/controls",
          "model_name": "FloatProgressModel",
          "model_module_version": "1.5.0",
          "state": {
            "_dom_classes": [],
            "_model_module": "@jupyter-widgets/controls",
            "_model_module_version": "1.5.0",
            "_model_name": "FloatProgressModel",
            "_view_count": null,
            "_view_module": "@jupyter-widgets/controls",
            "_view_module_version": "1.5.0",
            "_view_name": "ProgressView",
            "bar_style": "success",
            "description": "",
            "description_tooltip": null,
            "layout": "IPY_MODEL_751bfcdf2f734ebfac1c031de1d974b8",
            "max": 260006,
            "min": 0,
            "orientation": "horizontal",
            "style": "IPY_MODEL_ba7cd68923484d609b63f5342cae48f9",
            "value": 260006
          }
        },
        "31250f4c4d96460096c8b0910f8f3dc9": {
          "model_module": "@jupyter-widgets/controls",
          "model_name": "HTMLModel",
          "model_module_version": "1.5.0",
          "state": {
            "_dom_classes": [],
            "_model_module": "@jupyter-widgets/controls",
            "_model_module_version": "1.5.0",
            "_model_name": "HTMLModel",
            "_view_count": null,
            "_view_module": "@jupyter-widgets/controls",
            "_view_module_version": "1.5.0",
            "_view_name": "HTMLView",
            "description": "",
            "description_tooltip": null,
            "layout": "IPY_MODEL_bef9aa519d3a471bba204951dc2ab1e3",
            "placeholder": "​",
            "style": "IPY_MODEL_bd383e4178264008b030c373abd360ee",
            "value": " 260k/260k [00:00&lt;00:00, 16.7MB/s]"
          }
        },
        "7505fac3943d4abfac1581a51d061507": {
          "model_module": "@jupyter-widgets/base",
          "model_name": "LayoutModel",
          "model_module_version": "1.2.0",
          "state": {
            "_model_module": "@jupyter-widgets/base",
            "_model_module_version": "1.2.0",
            "_model_name": "LayoutModel",
            "_view_count": null,
            "_view_module": "@jupyter-widgets/base",
            "_view_module_version": "1.2.0",
            "_view_name": "LayoutView",
            "align_content": null,
            "align_items": null,
            "align_self": null,
            "border": null,
            "bottom": null,
            "display": null,
            "flex": null,
            "flex_flow": null,
            "grid_area": null,
            "grid_auto_columns": null,
            "grid_auto_flow": null,
            "grid_auto_rows": null,
            "grid_column": null,
            "grid_gap": null,
            "grid_row": null,
            "grid_template_areas": null,
            "grid_template_columns": null,
            "grid_template_rows": null,
            "height": null,
            "justify_content": null,
            "justify_items": null,
            "left": null,
            "margin": null,
            "max_height": null,
            "max_width": null,
            "min_height": null,
            "min_width": null,
            "object_fit": null,
            "object_position": null,
            "order": null,
            "overflow": null,
            "overflow_x": null,
            "overflow_y": null,
            "padding": null,
            "right": null,
            "top": null,
            "visibility": null,
            "width": null
          }
        },
        "7815ae405fca44babff72004f689e4a1": {
          "model_module": "@jupyter-widgets/base",
          "model_name": "LayoutModel",
          "model_module_version": "1.2.0",
          "state": {
            "_model_module": "@jupyter-widgets/base",
            "_model_module_version": "1.2.0",
            "_model_name": "LayoutModel",
            "_view_count": null,
            "_view_module": "@jupyter-widgets/base",
            "_view_module_version": "1.2.0",
            "_view_name": "LayoutView",
            "align_content": null,
            "align_items": null,
            "align_self": null,
            "border": null,
            "bottom": null,
            "display": null,
            "flex": null,
            "flex_flow": null,
            "grid_area": null,
            "grid_auto_columns": null,
            "grid_auto_flow": null,
            "grid_auto_rows": null,
            "grid_column": null,
            "grid_gap": null,
            "grid_row": null,
            "grid_template_areas": null,
            "grid_template_columns": null,
            "grid_template_rows": null,
            "height": null,
            "justify_content": null,
            "justify_items": null,
            "left": null,
            "margin": null,
            "max_height": null,
            "max_width": null,
            "min_height": null,
            "min_width": null,
            "object_fit": null,
            "object_position": null,
            "order": null,
            "overflow": null,
            "overflow_x": null,
            "overflow_y": null,
            "padding": null,
            "right": null,
            "top": null,
            "visibility": null,
            "width": null
          }
        },
        "e387050511124e83b3cbf9e01b6e46c1": {
          "model_module": "@jupyter-widgets/controls",
          "model_name": "DescriptionStyleModel",
          "model_module_version": "1.5.0",
          "state": {
            "_model_module": "@jupyter-widgets/controls",
            "_model_module_version": "1.5.0",
            "_model_name": "DescriptionStyleModel",
            "_view_count": null,
            "_view_module": "@jupyter-widgets/base",
            "_view_module_version": "1.2.0",
            "_view_name": "StyleView",
            "description_width": ""
          }
        },
        "751bfcdf2f734ebfac1c031de1d974b8": {
          "model_module": "@jupyter-widgets/base",
          "model_name": "LayoutModel",
          "model_module_version": "1.2.0",
          "state": {
            "_model_module": "@jupyter-widgets/base",
            "_model_module_version": "1.2.0",
            "_model_name": "LayoutModel",
            "_view_count": null,
            "_view_module": "@jupyter-widgets/base",
            "_view_module_version": "1.2.0",
            "_view_name": "LayoutView",
            "align_content": null,
            "align_items": null,
            "align_self": null,
            "border": null,
            "bottom": null,
            "display": null,
            "flex": null,
            "flex_flow": null,
            "grid_area": null,
            "grid_auto_columns": null,
            "grid_auto_flow": null,
            "grid_auto_rows": null,
            "grid_column": null,
            "grid_gap": null,
            "grid_row": null,
            "grid_template_areas": null,
            "grid_template_columns": null,
            "grid_template_rows": null,
            "height": null,
            "justify_content": null,
            "justify_items": null,
            "left": null,
            "margin": null,
            "max_height": null,
            "max_width": null,
            "min_height": null,
            "min_width": null,
            "object_fit": null,
            "object_position": null,
            "order": null,
            "overflow": null,
            "overflow_x": null,
            "overflow_y": null,
            "padding": null,
            "right": null,
            "top": null,
            "visibility": null,
            "width": null
          }
        },
        "ba7cd68923484d609b63f5342cae48f9": {
          "model_module": "@jupyter-widgets/controls",
          "model_name": "ProgressStyleModel",
          "model_module_version": "1.5.0",
          "state": {
            "_model_module": "@jupyter-widgets/controls",
            "_model_module_version": "1.5.0",
            "_model_name": "ProgressStyleModel",
            "_view_count": null,
            "_view_module": "@jupyter-widgets/base",
            "_view_module_version": "1.2.0",
            "_view_name": "StyleView",
            "bar_color": null,
            "description_width": ""
          }
        },
        "bef9aa519d3a471bba204951dc2ab1e3": {
          "model_module": "@jupyter-widgets/base",
          "model_name": "LayoutModel",
          "model_module_version": "1.2.0",
          "state": {
            "_model_module": "@jupyter-widgets/base",
            "_model_module_version": "1.2.0",
            "_model_name": "LayoutModel",
            "_view_count": null,
            "_view_module": "@jupyter-widgets/base",
            "_view_module_version": "1.2.0",
            "_view_name": "LayoutView",
            "align_content": null,
            "align_items": null,
            "align_self": null,
            "border": null,
            "bottom": null,
            "display": null,
            "flex": null,
            "flex_flow": null,
            "grid_area": null,
            "grid_auto_columns": null,
            "grid_auto_flow": null,
            "grid_auto_rows": null,
            "grid_column": null,
            "grid_gap": null,
            "grid_row": null,
            "grid_template_areas": null,
            "grid_template_columns": null,
            "grid_template_rows": null,
            "height": null,
            "justify_content": null,
            "justify_items": null,
            "left": null,
            "margin": null,
            "max_height": null,
            "max_width": null,
            "min_height": null,
            "min_width": null,
            "object_fit": null,
            "object_position": null,
            "order": null,
            "overflow": null,
            "overflow_x": null,
            "overflow_y": null,
            "padding": null,
            "right": null,
            "top": null,
            "visibility": null,
            "width": null
          }
        },
        "bd383e4178264008b030c373abd360ee": {
          "model_module": "@jupyter-widgets/controls",
          "model_name": "DescriptionStyleModel",
          "model_module_version": "1.5.0",
          "state": {
            "_model_module": "@jupyter-widgets/controls",
            "_model_module_version": "1.5.0",
            "_model_name": "DescriptionStyleModel",
            "_view_count": null,
            "_view_module": "@jupyter-widgets/base",
            "_view_module_version": "1.2.0",
            "_view_name": "StyleView",
            "description_width": ""
          }
        },
        "f50150ea61204e36830a04b35c15241a": {
          "model_module": "@jupyter-widgets/controls",
          "model_name": "HBoxModel",
          "model_module_version": "1.5.0",
          "state": {
            "_dom_classes": [],
            "_model_module": "@jupyter-widgets/controls",
            "_model_module_version": "1.5.0",
            "_model_name": "HBoxModel",
            "_view_count": null,
            "_view_module": "@jupyter-widgets/controls",
            "_view_module_version": "1.5.0",
            "_view_name": "HBoxView",
            "box_style": "",
            "children": [
              "IPY_MODEL_adc7f73137b443758f42292cb64e5dc7",
              "IPY_MODEL_67fb1a93028f47babc35f07ed562634d",
              "IPY_MODEL_68d55775f22741ea9b6c1398f0bf91a6"
            ],
            "layout": "IPY_MODEL_aae9b5f9153f470aab0afe9f7d8a7fad"
          }
        },
        "adc7f73137b443758f42292cb64e5dc7": {
          "model_module": "@jupyter-widgets/controls",
          "model_name": "HTMLModel",
          "model_module_version": "1.5.0",
          "state": {
            "_dom_classes": [],
            "_model_module": "@jupyter-widgets/controls",
            "_model_module_version": "1.5.0",
            "_model_name": "HTMLModel",
            "_view_count": null,
            "_view_module": "@jupyter-widgets/controls",
            "_view_module_version": "1.5.0",
            "_view_name": "HTMLView",
            "description": "",
            "description_tooltip": null,
            "layout": "IPY_MODEL_8818f7d27ff746e289d77cfd0a214723",
            "placeholder": "​",
            "style": "IPY_MODEL_fa98bcdc64bb494285adba699d77e86d",
            "value": "Generating train split: 100%"
          }
        },
        "67fb1a93028f47babc35f07ed562634d": {
          "model_module": "@jupyter-widgets/controls",
          "model_name": "FloatProgressModel",
          "model_module_version": "1.5.0",
          "state": {
            "_dom_classes": [],
            "_model_module": "@jupyter-widgets/controls",
            "_model_module_version": "1.5.0",
            "_model_name": "FloatProgressModel",
            "_view_count": null,
            "_view_module": "@jupyter-widgets/controls",
            "_view_module_version": "1.5.0",
            "_view_name": "ProgressView",
            "bar_style": "success",
            "description": "",
            "description_tooltip": null,
            "layout": "IPY_MODEL_cc2a19f7ef00402fbc7ff148d974397a",
            "max": 114599,
            "min": 0,
            "orientation": "horizontal",
            "style": "IPY_MODEL_58a6efb685204f938fff7e64303f2de2",
            "value": 114599
          }
        },
        "68d55775f22741ea9b6c1398f0bf91a6": {
          "model_module": "@jupyter-widgets/controls",
          "model_name": "HTMLModel",
          "model_module_version": "1.5.0",
          "state": {
            "_dom_classes": [],
            "_model_module": "@jupyter-widgets/controls",
            "_model_module_version": "1.5.0",
            "_model_name": "HTMLModel",
            "_view_count": null,
            "_view_module": "@jupyter-widgets/controls",
            "_view_module_version": "1.5.0",
            "_view_name": "HTMLView",
            "description": "",
            "description_tooltip": null,
            "layout": "IPY_MODEL_0cd630735def4d498b1c57d563f31262",
            "placeholder": "​",
            "style": "IPY_MODEL_bbd05191f7ab41208abc6b0861462c5c",
            "value": " 114599/114599 [00:00&lt;00:00, 455800.82 examples/s]"
          }
        },
        "aae9b5f9153f470aab0afe9f7d8a7fad": {
          "model_module": "@jupyter-widgets/base",
          "model_name": "LayoutModel",
          "model_module_version": "1.2.0",
          "state": {
            "_model_module": "@jupyter-widgets/base",
            "_model_module_version": "1.2.0",
            "_model_name": "LayoutModel",
            "_view_count": null,
            "_view_module": "@jupyter-widgets/base",
            "_view_module_version": "1.2.0",
            "_view_name": "LayoutView",
            "align_content": null,
            "align_items": null,
            "align_self": null,
            "border": null,
            "bottom": null,
            "display": null,
            "flex": null,
            "flex_flow": null,
            "grid_area": null,
            "grid_auto_columns": null,
            "grid_auto_flow": null,
            "grid_auto_rows": null,
            "grid_column": null,
            "grid_gap": null,
            "grid_row": null,
            "grid_template_areas": null,
            "grid_template_columns": null,
            "grid_template_rows": null,
            "height": null,
            "justify_content": null,
            "justify_items": null,
            "left": null,
            "margin": null,
            "max_height": null,
            "max_width": null,
            "min_height": null,
            "min_width": null,
            "object_fit": null,
            "object_position": null,
            "order": null,
            "overflow": null,
            "overflow_x": null,
            "overflow_y": null,
            "padding": null,
            "right": null,
            "top": null,
            "visibility": null,
            "width": null
          }
        },
        "8818f7d27ff746e289d77cfd0a214723": {
          "model_module": "@jupyter-widgets/base",
          "model_name": "LayoutModel",
          "model_module_version": "1.2.0",
          "state": {
            "_model_module": "@jupyter-widgets/base",
            "_model_module_version": "1.2.0",
            "_model_name": "LayoutModel",
            "_view_count": null,
            "_view_module": "@jupyter-widgets/base",
            "_view_module_version": "1.2.0",
            "_view_name": "LayoutView",
            "align_content": null,
            "align_items": null,
            "align_self": null,
            "border": null,
            "bottom": null,
            "display": null,
            "flex": null,
            "flex_flow": null,
            "grid_area": null,
            "grid_auto_columns": null,
            "grid_auto_flow": null,
            "grid_auto_rows": null,
            "grid_column": null,
            "grid_gap": null,
            "grid_row": null,
            "grid_template_areas": null,
            "grid_template_columns": null,
            "grid_template_rows": null,
            "height": null,
            "justify_content": null,
            "justify_items": null,
            "left": null,
            "margin": null,
            "max_height": null,
            "max_width": null,
            "min_height": null,
            "min_width": null,
            "object_fit": null,
            "object_position": null,
            "order": null,
            "overflow": null,
            "overflow_x": null,
            "overflow_y": null,
            "padding": null,
            "right": null,
            "top": null,
            "visibility": null,
            "width": null
          }
        },
        "fa98bcdc64bb494285adba699d77e86d": {
          "model_module": "@jupyter-widgets/controls",
          "model_name": "DescriptionStyleModel",
          "model_module_version": "1.5.0",
          "state": {
            "_model_module": "@jupyter-widgets/controls",
            "_model_module_version": "1.5.0",
            "_model_name": "DescriptionStyleModel",
            "_view_count": null,
            "_view_module": "@jupyter-widgets/base",
            "_view_module_version": "1.2.0",
            "_view_name": "StyleView",
            "description_width": ""
          }
        },
        "cc2a19f7ef00402fbc7ff148d974397a": {
          "model_module": "@jupyter-widgets/base",
          "model_name": "LayoutModel",
          "model_module_version": "1.2.0",
          "state": {
            "_model_module": "@jupyter-widgets/base",
            "_model_module_version": "1.2.0",
            "_model_name": "LayoutModel",
            "_view_count": null,
            "_view_module": "@jupyter-widgets/base",
            "_view_module_version": "1.2.0",
            "_view_name": "LayoutView",
            "align_content": null,
            "align_items": null,
            "align_self": null,
            "border": null,
            "bottom": null,
            "display": null,
            "flex": null,
            "flex_flow": null,
            "grid_area": null,
            "grid_auto_columns": null,
            "grid_auto_flow": null,
            "grid_auto_rows": null,
            "grid_column": null,
            "grid_gap": null,
            "grid_row": null,
            "grid_template_areas": null,
            "grid_template_columns": null,
            "grid_template_rows": null,
            "height": null,
            "justify_content": null,
            "justify_items": null,
            "left": null,
            "margin": null,
            "max_height": null,
            "max_width": null,
            "min_height": null,
            "min_width": null,
            "object_fit": null,
            "object_position": null,
            "order": null,
            "overflow": null,
            "overflow_x": null,
            "overflow_y": null,
            "padding": null,
            "right": null,
            "top": null,
            "visibility": null,
            "width": null
          }
        },
        "58a6efb685204f938fff7e64303f2de2": {
          "model_module": "@jupyter-widgets/controls",
          "model_name": "ProgressStyleModel",
          "model_module_version": "1.5.0",
          "state": {
            "_model_module": "@jupyter-widgets/controls",
            "_model_module_version": "1.5.0",
            "_model_name": "ProgressStyleModel",
            "_view_count": null,
            "_view_module": "@jupyter-widgets/base",
            "_view_module_version": "1.2.0",
            "_view_name": "StyleView",
            "bar_color": null,
            "description_width": ""
          }
        },
        "0cd630735def4d498b1c57d563f31262": {
          "model_module": "@jupyter-widgets/base",
          "model_name": "LayoutModel",
          "model_module_version": "1.2.0",
          "state": {
            "_model_module": "@jupyter-widgets/base",
            "_model_module_version": "1.2.0",
            "_model_name": "LayoutModel",
            "_view_count": null,
            "_view_module": "@jupyter-widgets/base",
            "_view_module_version": "1.2.0",
            "_view_name": "LayoutView",
            "align_content": null,
            "align_items": null,
            "align_self": null,
            "border": null,
            "bottom": null,
            "display": null,
            "flex": null,
            "flex_flow": null,
            "grid_area": null,
            "grid_auto_columns": null,
            "grid_auto_flow": null,
            "grid_auto_rows": null,
            "grid_column": null,
            "grid_gap": null,
            "grid_row": null,
            "grid_template_areas": null,
            "grid_template_columns": null,
            "grid_template_rows": null,
            "height": null,
            "justify_content": null,
            "justify_items": null,
            "left": null,
            "margin": null,
            "max_height": null,
            "max_width": null,
            "min_height": null,
            "min_width": null,
            "object_fit": null,
            "object_position": null,
            "order": null,
            "overflow": null,
            "overflow_x": null,
            "overflow_y": null,
            "padding": null,
            "right": null,
            "top": null,
            "visibility": null,
            "width": null
          }
        },
        "bbd05191f7ab41208abc6b0861462c5c": {
          "model_module": "@jupyter-widgets/controls",
          "model_name": "DescriptionStyleModel",
          "model_module_version": "1.5.0",
          "state": {
            "_model_module": "@jupyter-widgets/controls",
            "_model_module_version": "1.5.0",
            "_model_name": "DescriptionStyleModel",
            "_view_count": null,
            "_view_module": "@jupyter-widgets/base",
            "_view_module_version": "1.2.0",
            "_view_name": "StyleView",
            "description_width": ""
          }
        },
        "a164039070b2472a951b6337f1b3f4aa": {
          "model_module": "@jupyter-widgets/controls",
          "model_name": "HBoxModel",
          "model_module_version": "1.5.0",
          "state": {
            "_dom_classes": [],
            "_model_module": "@jupyter-widgets/controls",
            "_model_module_version": "1.5.0",
            "_model_name": "HBoxModel",
            "_view_count": null,
            "_view_module": "@jupyter-widgets/controls",
            "_view_module_version": "1.5.0",
            "_view_name": "HBoxView",
            "box_style": "",
            "children": [
              "IPY_MODEL_93a02c7dc5144e09bbf24f7951843780",
              "IPY_MODEL_15dcb952c6ba49fdb6e8954d77b6bbd8",
              "IPY_MODEL_8e6fe9d4547d49c5b3925690343d8a31"
            ],
            "layout": "IPY_MODEL_3b360eae545049a89ebae63220b0529c"
          }
        },
        "93a02c7dc5144e09bbf24f7951843780": {
          "model_module": "@jupyter-widgets/controls",
          "model_name": "HTMLModel",
          "model_module_version": "1.5.0",
          "state": {
            "_dom_classes": [],
            "_model_module": "@jupyter-widgets/controls",
            "_model_module_version": "1.5.0",
            "_model_name": "HTMLModel",
            "_view_count": null,
            "_view_module": "@jupyter-widgets/controls",
            "_view_module_version": "1.5.0",
            "_view_name": "HTMLView",
            "description": "",
            "description_tooltip": null,
            "layout": "IPY_MODEL_7e98425e55314c96b0e3cd31727310fe",
            "placeholder": "​",
            "style": "IPY_MODEL_6ec54d3b4ae443a182558155efba2b0d",
            "value": "Generating validation split: 100%"
          }
        },
        "15dcb952c6ba49fdb6e8954d77b6bbd8": {
          "model_module": "@jupyter-widgets/controls",
          "model_name": "FloatProgressModel",
          "model_module_version": "1.5.0",
          "state": {
            "_dom_classes": [],
            "_model_module": "@jupyter-widgets/controls",
            "_model_module_version": "1.5.0",
            "_model_name": "FloatProgressModel",
            "_view_count": null,
            "_view_module": "@jupyter-widgets/controls",
            "_view_module_version": "1.5.0",
            "_view_name": "ProgressView",
            "bar_style": "success",
            "description": "",
            "description_tooltip": null,
            "layout": "IPY_MODEL_88b92c2c1a3642d9a739b9941a2d0f77",
            "max": 1070,
            "min": 0,
            "orientation": "horizontal",
            "style": "IPY_MODEL_85c8010f03994b92bb31297670cb2ae9",
            "value": 1070
          }
        },
        "8e6fe9d4547d49c5b3925690343d8a31": {
          "model_module": "@jupyter-widgets/controls",
          "model_name": "HTMLModel",
          "model_module_version": "1.5.0",
          "state": {
            "_dom_classes": [],
            "_model_module": "@jupyter-widgets/controls",
            "_model_module_version": "1.5.0",
            "_model_name": "HTMLModel",
            "_view_count": null,
            "_view_module": "@jupyter-widgets/controls",
            "_view_module_version": "1.5.0",
            "_view_name": "HTMLView",
            "description": "",
            "description_tooltip": null,
            "layout": "IPY_MODEL_f9e4e48ca9664e0fa5c292200cd7e3c7",
            "placeholder": "​",
            "style": "IPY_MODEL_0152d2b09c5b4f57871651f0f3aa43df",
            "value": " 1070/1070 [00:00&lt;00:00, 38434.38 examples/s]"
          }
        },
        "3b360eae545049a89ebae63220b0529c": {
          "model_module": "@jupyter-widgets/base",
          "model_name": "LayoutModel",
          "model_module_version": "1.2.0",
          "state": {
            "_model_module": "@jupyter-widgets/base",
            "_model_module_version": "1.2.0",
            "_model_name": "LayoutModel",
            "_view_count": null,
            "_view_module": "@jupyter-widgets/base",
            "_view_module_version": "1.2.0",
            "_view_name": "LayoutView",
            "align_content": null,
            "align_items": null,
            "align_self": null,
            "border": null,
            "bottom": null,
            "display": null,
            "flex": null,
            "flex_flow": null,
            "grid_area": null,
            "grid_auto_columns": null,
            "grid_auto_flow": null,
            "grid_auto_rows": null,
            "grid_column": null,
            "grid_gap": null,
            "grid_row": null,
            "grid_template_areas": null,
            "grid_template_columns": null,
            "grid_template_rows": null,
            "height": null,
            "justify_content": null,
            "justify_items": null,
            "left": null,
            "margin": null,
            "max_height": null,
            "max_width": null,
            "min_height": null,
            "min_width": null,
            "object_fit": null,
            "object_position": null,
            "order": null,
            "overflow": null,
            "overflow_x": null,
            "overflow_y": null,
            "padding": null,
            "right": null,
            "top": null,
            "visibility": null,
            "width": null
          }
        },
        "7e98425e55314c96b0e3cd31727310fe": {
          "model_module": "@jupyter-widgets/base",
          "model_name": "LayoutModel",
          "model_module_version": "1.2.0",
          "state": {
            "_model_module": "@jupyter-widgets/base",
            "_model_module_version": "1.2.0",
            "_model_name": "LayoutModel",
            "_view_count": null,
            "_view_module": "@jupyter-widgets/base",
            "_view_module_version": "1.2.0",
            "_view_name": "LayoutView",
            "align_content": null,
            "align_items": null,
            "align_self": null,
            "border": null,
            "bottom": null,
            "display": null,
            "flex": null,
            "flex_flow": null,
            "grid_area": null,
            "grid_auto_columns": null,
            "grid_auto_flow": null,
            "grid_auto_rows": null,
            "grid_column": null,
            "grid_gap": null,
            "grid_row": null,
            "grid_template_areas": null,
            "grid_template_columns": null,
            "grid_template_rows": null,
            "height": null,
            "justify_content": null,
            "justify_items": null,
            "left": null,
            "margin": null,
            "max_height": null,
            "max_width": null,
            "min_height": null,
            "min_width": null,
            "object_fit": null,
            "object_position": null,
            "order": null,
            "overflow": null,
            "overflow_x": null,
            "overflow_y": null,
            "padding": null,
            "right": null,
            "top": null,
            "visibility": null,
            "width": null
          }
        },
        "6ec54d3b4ae443a182558155efba2b0d": {
          "model_module": "@jupyter-widgets/controls",
          "model_name": "DescriptionStyleModel",
          "model_module_version": "1.5.0",
          "state": {
            "_model_module": "@jupyter-widgets/controls",
            "_model_module_version": "1.5.0",
            "_model_name": "DescriptionStyleModel",
            "_view_count": null,
            "_view_module": "@jupyter-widgets/base",
            "_view_module_version": "1.2.0",
            "_view_name": "StyleView",
            "description_width": ""
          }
        },
        "88b92c2c1a3642d9a739b9941a2d0f77": {
          "model_module": "@jupyter-widgets/base",
          "model_name": "LayoutModel",
          "model_module_version": "1.2.0",
          "state": {
            "_model_module": "@jupyter-widgets/base",
            "_model_module_version": "1.2.0",
            "_model_name": "LayoutModel",
            "_view_count": null,
            "_view_module": "@jupyter-widgets/base",
            "_view_module_version": "1.2.0",
            "_view_name": "LayoutView",
            "align_content": null,
            "align_items": null,
            "align_self": null,
            "border": null,
            "bottom": null,
            "display": null,
            "flex": null,
            "flex_flow": null,
            "grid_area": null,
            "grid_auto_columns": null,
            "grid_auto_flow": null,
            "grid_auto_rows": null,
            "grid_column": null,
            "grid_gap": null,
            "grid_row": null,
            "grid_template_areas": null,
            "grid_template_columns": null,
            "grid_template_rows": null,
            "height": null,
            "justify_content": null,
            "justify_items": null,
            "left": null,
            "margin": null,
            "max_height": null,
            "max_width": null,
            "min_height": null,
            "min_width": null,
            "object_fit": null,
            "object_position": null,
            "order": null,
            "overflow": null,
            "overflow_x": null,
            "overflow_y": null,
            "padding": null,
            "right": null,
            "top": null,
            "visibility": null,
            "width": null
          }
        },
        "85c8010f03994b92bb31297670cb2ae9": {
          "model_module": "@jupyter-widgets/controls",
          "model_name": "ProgressStyleModel",
          "model_module_version": "1.5.0",
          "state": {
            "_model_module": "@jupyter-widgets/controls",
            "_model_module_version": "1.5.0",
            "_model_name": "ProgressStyleModel",
            "_view_count": null,
            "_view_module": "@jupyter-widgets/base",
            "_view_module_version": "1.2.0",
            "_view_name": "StyleView",
            "bar_color": null,
            "description_width": ""
          }
        },
        "f9e4e48ca9664e0fa5c292200cd7e3c7": {
          "model_module": "@jupyter-widgets/base",
          "model_name": "LayoutModel",
          "model_module_version": "1.2.0",
          "state": {
            "_model_module": "@jupyter-widgets/base",
            "_model_module_version": "1.2.0",
            "_model_name": "LayoutModel",
            "_view_count": null,
            "_view_module": "@jupyter-widgets/base",
            "_view_module_version": "1.2.0",
            "_view_name": "LayoutView",
            "align_content": null,
            "align_items": null,
            "align_self": null,
            "border": null,
            "bottom": null,
            "display": null,
            "flex": null,
            "flex_flow": null,
            "grid_area": null,
            "grid_auto_columns": null,
            "grid_auto_flow": null,
            "grid_auto_rows": null,
            "grid_column": null,
            "grid_gap": null,
            "grid_row": null,
            "grid_template_areas": null,
            "grid_template_columns": null,
            "grid_template_rows": null,
            "height": null,
            "justify_content": null,
            "justify_items": null,
            "left": null,
            "margin": null,
            "max_height": null,
            "max_width": null,
            "min_height": null,
            "min_width": null,
            "object_fit": null,
            "object_position": null,
            "order": null,
            "overflow": null,
            "overflow_x": null,
            "overflow_y": null,
            "padding": null,
            "right": null,
            "top": null,
            "visibility": null,
            "width": null
          }
        },
        "0152d2b09c5b4f57871651f0f3aa43df": {
          "model_module": "@jupyter-widgets/controls",
          "model_name": "DescriptionStyleModel",
          "model_module_version": "1.5.0",
          "state": {
            "_model_module": "@jupyter-widgets/controls",
            "_model_module_version": "1.5.0",
            "_model_name": "DescriptionStyleModel",
            "_view_count": null,
            "_view_module": "@jupyter-widgets/base",
            "_view_module_version": "1.2.0",
            "_view_name": "StyleView",
            "description_width": ""
          }
        }
      }
    }
  },
  "nbformat": 4,
  "nbformat_minor": 5
}